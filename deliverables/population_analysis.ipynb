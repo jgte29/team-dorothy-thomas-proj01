{
 "cells": [
  {
   "cell_type": "markdown",
   "id": "f1a06e52",
   "metadata": {},
   "source": [
    "# Our Country: Colombia"
   ]
  },
  {
   "cell_type": "code",
   "execution_count": null,
   "id": "f6def48e",
   "metadata": {},
   "outputs": [],
   "source": [
    "### Uncomment this to download\n",
    "# !pip install wbdata\n",
    "# !pip install cufflinks\n",
    "import numpy as np\n",
    "import pandas as pd\n",
    "import wbdata\n",
    "import re\n",
    "import plotly.offline as plto\n",
    "import plotly.graph_objs as go\n",
    "import matplotlib.pyplot as plt\n",
    "import cufflinks as cf"
   ]
  },
  {
   "cell_type": "markdown",
   "id": "e0184923",
   "metadata": {},
   "source": [
    "# Population Statistics"
   ]
  },
  {
   "cell_type": "code",
   "execution_count": null,
   "id": "c97eab2c",
   "metadata": {},
   "outputs": [],
   "source": [
    "def is_estimation(lower_bound, upper_bound, lower_bounds):\n",
    "    verdict1 = sum([l == lower_bound for l in lower_bounds])\n",
    "    verdict2 = sum([l - 1 == upper_bound for l in lower_bounds])\n",
    "    estimation = verdict1 == 0 or verdict2 == 0\n",
    "    return estimation \n",
    "\n",
    "def get_age_ranges():\n",
    "    ar = [] ### Age Ranges List\n",
    "\n",
    "    # Ranges top out at 80, and go in five year increments\n",
    "    for i in range(0,80,5):\n",
    "        ar += [(f\"{i:02d}\"+f\"{i+4:02d}\")]\n",
    "\n",
    "    ar += [\"80UP\"]\n",
    "    return ar\n",
    "\n",
    "def find_country(country):\n",
    "    print(wbdata.search_countries(country))\n",
    "\n",
    "def population(year, sex, age_range, place):\n",
    "    sex = sex.lower()\n",
    "\n",
    "    lower_bound = age_range[0]\n",
    "    upper_bound = age_range[1]\n",
    "    ar = get_age_ranges()\n",
    "    ar_lower_bounds = [int(r[0:2]) for r in ar]\n",
    "    ar_lower_bounds\n",
    "\n",
    "    desired_range_lb_index = 0\n",
    "    desired_range_ub_index = 0\n",
    "\n",
    "    for lb in ar_lower_bounds:\n",
    "        if lb < lower_bound:\n",
    "            desired_range_lb_index += 1\n",
    "        if lb < upper_bound:\n",
    "            desired_range_ub_index += 1\n",
    "\n",
    "    desired_indexes = ar[desired_range_lb_index: desired_range_ub_index]\n",
    "\n",
    "    if sex == 'female':\n",
    "        desired_categories = {\"SP.POP.\"+r+\".FE\":\"Females \"+r for r in desired_indexes} ### Female Categories\n",
    "    else:\n",
    "        desired_categories = {\"SP.POP.\"+r+\".MA\":\"Males \"+r for r in desired_indexes} ### Male Categories\n",
    "    \n",
    "    try:\n",
    "        df = wbdata.get_dataframe(desired_categories, country=place)\n",
    "        df.index = df.index.astype(int)\n",
    "\n",
    "        estimation = is_estimation(lower_bound, upper_bound, ar_lower_bounds)\n",
    "\n",
    "        if estimation:\n",
    "            print(f'Exact Range Not Given. Answer is an Estimation. Included ranges for estimation are {(df.columns).to_numpy()}')\n",
    "\n",
    "        df = df.apply(np.sum, axis=1)\n",
    "        \n",
    "        try: \n",
    "            answer = df.loc[year]\n",
    "            return answer\n",
    "        except: # Catches error resulting from invalid year entry\n",
    "            print(f'{year} is an Invalid Year. Ensure that year is between {min(df.index)} and {max(df.index)}')\n",
    "            return 'Invalid Year'\n",
    "    except:  # Catches error resulting from invalid place entry\n",
    "        print(f'{place} is an Invalid Country. Use find_country() to find valid countries')\n",
    "        return 'Invalid Country'"
   ]
  },
  {
   "cell_type": "code",
   "execution_count": null,
   "id": "930bba86",
   "metadata": {},
   "outputs": [],
   "source": [
    "year = 2020\n",
    "place = 'COL'\n",
    "age_range = (0, 100)\n",
    "\n",
    "sex = 'male'\n",
    "m_pop = population(year, sex, age_range, place)\n",
    "\n",
    "sex = 'female'\n",
    "f_pop = population(year, sex, age_range, place)\n",
    "\n",
    "tot_pop = m_pop + f_pop\n",
    "tot_pop"
   ]
  },
  {
   "cell_type": "markdown",
   "id": "918bb01e",
   "metadata": {},
   "source": [
    "# Population Dataframes"
   ]
  },
  {
   "cell_type": "code",
   "execution_count": null,
   "id": "f5d62151",
   "metadata": {},
   "outputs": [],
   "source": [
    "def get_categories():\n",
    "    ar = [] ### Age Ranges List\n",
    "\n",
    "    # Ranges top out at 80, and go in five year increments\n",
    "    for i in range(0,80,5):\n",
    "        ar += [(f\"{i:02d}\"+f\"{i+4:02d}\")]\n",
    "\n",
    "    ar += [\"80UP\"]\n",
    "\n",
    "    m_cat = {\"SP.POP.\"+r+\".MA\":\"Males \"+r for r in ar} ### Male Categories\n",
    "    f_cat = {\"SP.POP.\"+r+\".FE\":\"Females \"+r for r in ar} ### Female Categories\n",
    "\n",
    "    cats = {**m_cat, **f_cat}\n",
    "    return cats\n",
    "\n",
    "def population_dataframe(place):\n",
    "    cats = get_categories()\n",
    "    try:\n",
    "        pop_df = wbdata.get_dataframe(cats,country=place)\n",
    "        return pop_df\n",
    "    except:\n",
    "        print(f'Could Not Return a Dataframe for {place}')\n",
    "        return 'Invalid Country'"
   ]
  },
  {
   "cell_type": "code",
   "execution_count": null,
   "id": "e95e90fd",
   "metadata": {},
   "outputs": [],
   "source": [
    "eg = population_dataframe('COL')\n",
    "eg"
   ]
  },
  {
   "cell_type": "markdown",
   "id": "f1b29bac",
   "metadata": {},
   "source": [
    "# Population Pyramids"
   ]
  },
  {
   "cell_type": "code",
   "execution_count": null,
   "id": "0bfd6d2d",
   "metadata": {},
   "outputs": [],
   "source": [
    "def plot_population_pyramid(pop_df, year):\n",
    "    plto.init_notebook_mode(connected=True)\n",
    "\n",
    "    layout = go.Layout(barmode='overlay',\n",
    "                       yaxis=go.layout.YAxis(range=[0, 90], title='Age'),\n",
    "                       xaxis=go.layout.XAxis(title='Number'),\n",
    "                       title=dict(text='Initial Plot Title',\n",
    "                                  x=0.5, \n",
    "                                  font=dict(color='black', family='Arial', size=24))\n",
    "                      )\n",
    "\n",
    "    ar = get_age_ranges()\n",
    "    \n",
    "    try:\n",
    "        bins = [go.Bar(x = pop_df.loc[str(year),:].filter(regex=\"Male\").values,\n",
    "                       y = [int(s[:2])+1 for s in ar],\n",
    "                       orientation='h',\n",
    "                       name='Men',\n",
    "                       marker=dict(color='blue'),\n",
    "                       hoverinfo='skip'\n",
    "                       ),\n",
    "\n",
    "                go.Bar(x = -pop_df.loc[str(year),:].filter(regex=\"Female\").values,\n",
    "                       y=[int(s[:2])+1 for s in ar],\n",
    "                       orientation='h',\n",
    "                       name='Women',\n",
    "                       marker=dict(color='red'),\n",
    "                       hoverinfo='skip',\n",
    "                       )\n",
    "                ]\n",
    "        fig = go.Figure(data=bins, layout=layout)\n",
    "\n",
    "        fig.update_xaxes(title_text='Population')\n",
    "\n",
    "        fig.update_yaxes(title_text='Age Range')\n",
    "\n",
    "        fig.update_layout(title_text=f'Population Pyramid in {year}')\n",
    "        fig.show()\n",
    "    \n",
    "    except:\n",
    "        print(f'{year} is an Invalid Year. Ensure that year is between {min(pop_df.index)} and {max(pop_df.index)}')\n",
    "        return 'Invalid Year'"
   ]
  },
  {
   "cell_type": "code",
   "execution_count": null,
   "id": "a872d350",
   "metadata": {
    "scrolled": false
   },
   "outputs": [],
   "source": [
    "pop_df = population_dataframe('COL')\n",
    "for year in np.arange(1970, 2030, 10):\n",
    "    plot_population_pyramid(pop_df, year)"
   ]
  },
  {
   "cell_type": "markdown",
   "id": "ff3e2565",
   "metadata": {},
   "source": [
    "# Unit Tests"
   ]
  },
  {
   "cell_type": "code",
   "execution_count": null,
   "id": "2d524823",
   "metadata": {
    "scrolled": true
   },
   "outputs": [],
   "source": [
    "def unit_test(case):\n",
    "    if case:\n",
    "        print('Test Case Passed')\n",
    "        return case\n",
    "    else:\n",
    "        print('Test Case Failed')\n",
    "        return case"
   ]
  },
  {
   "cell_type": "markdown",
   "id": "2832cf1e",
   "metadata": {},
   "source": [
    "### population( )Test the Value Returns Correct Answers"
   ]
  },
  {
   "cell_type": "code",
   "execution_count": null,
   "id": "c10111c5",
   "metadata": {},
   "outputs": [],
   "source": [
    "n = 1\n",
    "\n",
    "### Test the Unit Test Works\n",
    "year = 2020\n",
    "place = 'COL'\n",
    "age_range = (0, 59)\n",
    "\n",
    "sex = 'male'\n",
    "pop = population(year, sex, age_range, place)\n",
    "case = pop < 0\n",
    "print(f'Test {n}:')\n",
    "unit_test(~(case))\n",
    "n += 1\n",
    "\n",
    "### Basic Functionality\n",
    "year = 2020\n",
    "place = 'COL'\n",
    "age_range = (0, 59)\n",
    "\n",
    "sex = 'male'\n",
    "m_pop = population(year, sex, age_range, place)\n",
    "\n",
    "sex = 'female'\n",
    "f_pop = population(year, sex, age_range, place)\n",
    "\n",
    "tot_pop = m_pop + f_pop\n",
    "case = tot_pop > 4e7\n",
    "print(f'\\nTest {n}:')\n",
    "unit_test(case)\n",
    "n += 1\n",
    "\n",
    "### Test the year hyperparameter works\n",
    "sex = 'male'\n",
    "place = 'COL'\n",
    "age_range = (0, 59)\n",
    "\n",
    "year = 2020\n",
    "m_pop1 = population(year, sex, age_range, place)\n",
    "\n",
    "year = 2021\n",
    "m_pop2 = population(year, sex, age_range, place)\n",
    "\n",
    "case = m_pop1 != m_pop2\n",
    "print(f'\\nTest {n}:')\n",
    "unit_test(case)\n",
    "n += 1\n",
    "\n",
    "### Test the sex hyperparameter works\n",
    "year = 2020\n",
    "place = 'COL'\n",
    "age_range = (0, 59)\n",
    "\n",
    "sex = 'male'\n",
    "m_pop = population(year, sex, age_range, place)\n",
    "\n",
    "sex = 'female'\n",
    "f_pop = population(year, sex, age_range, place)\n",
    "\n",
    "case = m_pop != f_pop\n",
    "print(f'\\nTest {n}:')\n",
    "unit_test(case)\n",
    "n += 1\n",
    "\n",
    "### Test the place hyperparameter works\n",
    "sex = 'male'\n",
    "place = 'COL'\n",
    "year = 2020\n",
    "age_range = (0, 59)\n",
    "\n",
    "place = 'COL'\n",
    "m_pop1 = population(year, sex, age_range, place)\n",
    "\n",
    "place = 'USA'\n",
    "m_pop2 = population(year, sex, age_range, place)\n",
    "\n",
    "case = m_pop1 != m_pop2\n",
    "print(f'\\nTest {n}:')\n",
    "unit_test(case)\n",
    "n += 1\n",
    "\n",
    "### Test the age_range hyperparameter wors\n",
    "sex = 'male'\n",
    "place = 'COL'\n",
    "year = 2020\n",
    "\n",
    "age_range = (0, 59)\n",
    "m_pop1 = population(year, sex, age_range, place)\n",
    "\n",
    "age_range = (0, 49)\n",
    "m_pop2 = population(year, sex, age_range, place)\n",
    "\n",
    "case = m_pop1 != m_pop2\n",
    "print(f'\\nTest {n}:')\n",
    "unit_test(case)\n",
    "n += 1"
   ]
  },
  {
   "cell_type": "markdown",
   "id": "86abd226",
   "metadata": {},
   "source": [
    "### population( ) Test the Error Messages Work"
   ]
  },
  {
   "cell_type": "code",
   "execution_count": null,
   "id": "7d555110",
   "metadata": {
    "scrolled": false
   },
   "outputs": [],
   "source": [
    "n = 1\n",
    "\n",
    "### Test the Invalid Country Message Works\n",
    "sex = 'male'\n",
    "place = 'SPAM'\n",
    "year = 2020\n",
    "age_range = (0, 59)\n",
    "\n",
    "pop = population(year, sex, age_range, place)\n",
    "case = pop == 'Invalid Country'\n",
    "print(f'Test {n}:')\n",
    "unit_test(~(case))\n",
    "n += 1\n",
    "\n",
    "### Test the Invalid Year Message Works\n",
    "sex = 'male'\n",
    "place = 'COL'\n",
    "year = 0\n",
    "age_range = (0, 59)\n",
    "\n",
    "pop = population(year, sex, age_range, place)\n",
    "case = pop == 'Invalid Year'\n",
    "print(f'\\nTest {n}:')\n",
    "unit_test(case)\n",
    "n += 1"
   ]
  },
  {
   "cell_type": "markdown",
   "id": "b16ea5e5",
   "metadata": {},
   "source": [
    "## population_dataframe( ) Unit Tests"
   ]
  },
  {
   "cell_type": "code",
   "execution_count": null,
   "id": "59329c1b",
   "metadata": {
    "scrolled": true
   },
   "outputs": [],
   "source": [
    "### Basic Functionality\n",
    "n = 1\n",
    "eg = population_dataframe('COL')\n",
    "case = len(eg) == 63\n",
    "\n",
    "print(f'\\nTest {n}:')\n",
    "unit_test(case)\n",
    "n += 1\n",
    "\n",
    "### Test the Invalid Country error message works\n",
    "eg = population_dataframe('SPAM')\n",
    "case = eg == 'Invalid Country'\n",
    "\n",
    "print(f'\\nTest {n}:')\n",
    "unit_test(case)\n",
    "n += 1"
   ]
  },
  {
   "cell_type": "markdown",
   "id": "1df3e3f6",
   "metadata": {},
   "source": [
    "## plot_population_pyramid( ) Unit Tests"
   ]
  },
  {
   "cell_type": "code",
   "execution_count": null,
   "id": "ef07a08a",
   "metadata": {},
   "outputs": [],
   "source": [
    "### Basic Functionality\n",
    "n = 1\n",
    "pop_df = population_dataframe('COL')\n",
    "\n",
    "eg = plot_population_pyramid(pop_df, 2020)\n",
    "case = eg == None ### Ploting the graph is NoneType. If the graph plots, then it equals None\n",
    "\n",
    "print(f'\\nTest {n}:')\n",
    "unit_test(case)\n",
    "n += 1\n",
    "\n",
    "### Test the Invalid Country error message works\n",
    "eg = plot_population_pyramid(pop_df, 0)\n",
    "case = eg == 'Invalid Year'\n",
    "\n",
    "print(f'\\nTest {n}:')\n",
    "unit_test(case)\n",
    "n += 1"
   ]
  },
  {
   "cell_type": "markdown",
   "id": "5de02f62",
   "metadata": {},
   "source": [
    "# Extras: Animated Population Pyramids"
   ]
  },
  {
   "cell_type": "code",
   "execution_count": null,
   "id": "e436b12a",
   "metadata": {},
   "outputs": [],
   "source": [
    "def plot_population_pyramid_animated(pop_df, years):\n",
    "    plto.init_notebook_mode(connected=True)\n",
    "    layout = go.Layout(\n",
    "        barmode='overlay',\n",
    "        yaxis=go.layout.YAxis(range=[0, 90], title='Age'),\n",
    "        xaxis=go.layout.XAxis(title='Number'),\n",
    "        title=dict(text='Initial Plot Title', x=0.5, font=dict(color='black', family='Arial', size=24))\n",
    "    )\n",
    "\n",
    "    ar = get_age_ranges()\n",
    "\n",
    "    frames = [go.Frame(\n",
    "        data=[\n",
    "            go.Bar(\n",
    "                x=pop_df.loc[str(year), :].filter(regex=\"Male\").values,\n",
    "                y=[int(s[:2]) + 1 for s in ar],\n",
    "                orientation='h',\n",
    "                name='Men',\n",
    "                marker=dict(color='blue'),\n",
    "                hoverinfo='skip'\n",
    "            ),\n",
    "            go.Bar(\n",
    "                x=-pop_df.loc[str(year), :].filter(regex=\"Female\").values,\n",
    "                y=[int(s[:2]) + 1 for s in ar],\n",
    "                orientation='h',\n",
    "                name='Women',\n",
    "                marker=dict(color='red'),\n",
    "                hoverinfo='skip',\n",
    "            )\n",
    "        ],\n",
    "        name=str(year),\n",
    "    ) for year in years]\n",
    "\n",
    "    fig = go.Figure(data=frames[0]['data'], layout=layout, frames=frames)\n",
    "\n",
    "    fig.update_xaxes(title_text='Population')\n",
    "    fig.update_yaxes(title_text='Age Range')\n",
    "\n",
    "    fig.update_layout(title_text=f'Population Pyramid Over Time from {years[0]} to {years[-1]}')\n",
    "\n",
    "    fig.update_layout(updatemenus=[dict(type='buttons', showactive=False, buttons=[dict(label='Play',\n",
    "                                                method='animate', args=[None, dict(frame=dict(duration=500, redraw=True),\n",
    "                                                fromcurrent=True)])])])\n",
    "\n",
    "    fig.update_layout(sliders=[dict(yanchor='top', xanchor='left', currentvalue=dict(font=dict(size=16),\n",
    "                              prefix='Year:', visible=True, xanchor='right'), transition=dict(duration=300, easing='cubic-in-out'),\n",
    "                              steps=[dict(args=[[frame.name], dict(frame=dict(duration=300, redraw=True), mode='immediate',\n",
    "                              transition=dict(duration=300))], label=str(frame.name), method='animate') for frame in frames])])\n",
    "\n",
    "    fig.show()"
   ]
  },
  {
   "cell_type": "code",
   "execution_count": null,
   "id": "bfb56750",
   "metadata": {
    "scrolled": true
   },
   "outputs": [],
   "source": [
    "pop_df = population_dataframe('COL')\n",
    "year_range = np.arange(1970, 2022)\n",
    "plot_population_pyramid_animated(pop_df, year_range)"
   ]
  },
  {
   "cell_type": "markdown",
   "id": "1f3ed938",
   "metadata": {},
   "source": [
    "# Extras: Additional Population Visualizations"
   ]
  },
  {
   "cell_type": "code",
   "execution_count": null,
   "id": "cd53aa5e",
   "metadata": {},
   "outputs": [],
   "source": [
    "cf.go_offline()"
   ]
  },
  {
   "cell_type": "code",
   "execution_count": null,
   "id": "60c66d52",
   "metadata": {},
   "outputs": [],
   "source": [
    "find_country('asia')"
   ]
  },
  {
   "cell_type": "code",
   "execution_count": null,
   "id": "95c37b18",
   "metadata": {},
   "outputs": [],
   "source": [
    "labels = {\"SP.POP.TOTL\":\"Population\"}\n",
    "\n",
    "countries = {\"NAC\" : \"North America\",\n",
    "             \"LCN\" : \"Latin America & Caribbean\",\n",
    "             \"EUU\" : \"European Union\",\n",
    "             \"TEA\" : \"East Asia & Pacific (IDA & IBRD countries)\",\n",
    "             \"SAS\" : \"South Asia\"\n",
    "            }\n",
    "\n",
    "plot_df = wbdata.get_dataframe(labels, country = countries).squeeze()\n",
    "\n",
    "plot_df = plot_df.unstack('country')\n",
    "\n",
    "plot_df.index = plot_df.index.astype(int)\n",
    "\n",
    "np.log(plot_df).diff().iplot(title=\"Population Growth Rates In LATAM vs Other Regions of the World\",\n",
    "                        yTitle=\"Growth Rate\",xTitle='Year')"
   ]
  },
  {
   "cell_type": "code",
   "execution_count": null,
   "id": "f224d656",
   "metadata": {},
   "outputs": [],
   "source": [
    "label = {\"SP.POP.TOTL\":\"World Population\"}\n",
    "\n",
    "plot_df = wbdata.get_dataframe(label, country=\"COL\")\n",
    "\n",
    "plot_df.index = plot_df.index.astype(int)\n",
    "\n",
    "plot_df = plot_df.sort_index() ### Need it to be ascending\n",
    "\n",
    "### To get growth rate: np.log(plot_df).diff()\n",
    "np.log(plot_df).diff().iplot(title=\"Population Growth Rates in Colombia: Social Unrest Causes Major Drops In Rates\", \n",
    "                             xTitle='Year', yTitle='Growth Rate')\n",
    "### Mid 60s: Conflict with Far-Right Guerillas Break Out\n",
    "### Late 80s - Early 90s: Pablo Escobar Reign of Terror & Cartel Wars\n",
    "### 2015 onwards collapse of Venezualan economy (more imigration to countries like Colombia)\n",
    "### 2020: COVID"
   ]
  },
  {
   "cell_type": "code",
   "execution_count": null,
   "id": "245182c7",
   "metadata": {},
   "outputs": [],
   "source": [
    "labels = {\"SP.POP.TOTL\":\"Population\"}\n",
    "\n",
    "countries = {\"COL\":\"Colombia\",\n",
    "             \"BRA\":\"Brazil\",\n",
    "             \"VEN\":\"Venezuela\",\n",
    "             \"ECU\":\"Ecuador\",\n",
    "             \"PER\":\"Peru\"\n",
    "            }\n",
    "\n",
    "plot_df = wbdata.get_dataframe(labels, country = countries).squeeze()\n",
    "\n",
    "plot_df = plot_df.unstack('country')\n",
    "\n",
    "plot_df.index = plot_df.index.astype(int)\n",
    "\n",
    "np.log(plot_df).diff().iplot(title=\"Population Growth Rates In Colombia vs Neighbors\",\n",
    "                        yTitle=\"Growth Rate\",xTitle='Year')"
   ]
  },
  {
   "cell_type": "code",
   "execution_count": null,
   "id": "14758a8a",
   "metadata": {},
   "outputs": [],
   "source": [
    "labels = {\"SP.POP.TOTL\":\"Population\"}\n",
    "\n",
    "countries = {\"COL\":\"Colombia\",\n",
    "             \"VEN\":\"Venezuela\"\n",
    "            }\n",
    "\n",
    "plot_df = wbdata.get_dataframe(labels, country = countries).squeeze()\n",
    "\n",
    "plot_df = plot_df.unstack('country')\n",
    "\n",
    "plot_df.index = plot_df.index.astype(int)\n",
    "\n",
    "np.log(plot_df).diff().iplot(title=\"Population Growth Rates In Colombia vs Venezuela\",\n",
    "                        yTitle=\"Growth Rate\",xTitle='Year')"
   ]
  },
  {
   "cell_type": "markdown",
   "id": "6e2a2db6",
   "metadata": {},
   "source": [
    "# Extras: Agricultural Supply"
   ]
  },
  {
   "cell_type": "code",
   "execution_count": null,
   "id": "6624ecc1",
   "metadata": {},
   "outputs": [],
   "source": []
  }
 ],
 "metadata": {
  "kernelspec": {
   "display_name": "Python 3 (ipykernel)",
   "language": "python",
   "name": "python3"
  },
  "language_info": {
   "codemirror_mode": {
    "name": "ipython",
    "version": 3
   },
   "file_extension": ".py",
   "mimetype": "text/x-python",
   "name": "python",
   "nbconvert_exporter": "python",
   "pygments_lexer": "ipython3",
   "version": "3.11.5"
  }
 },
 "nbformat": 4,
 "nbformat_minor": 5
}
