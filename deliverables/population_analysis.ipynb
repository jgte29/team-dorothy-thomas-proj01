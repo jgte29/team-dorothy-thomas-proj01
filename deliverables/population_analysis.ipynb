{
 "cells": [
  {
   "cell_type": "markdown",
   "id": "f1a06e52",
   "metadata": {},
   "source": [
    "# Our Country: Colombia"
   ]
  },
  {
   "cell_type": "code",
   "execution_count": 46,
   "id": "f6def48e",
   "metadata": {},
   "outputs": [],
   "source": [
    "### Uncomment this to download\n",
    "# !pip install wbdata\n",
    "import pandas\n",
    "import wbdata"
   ]
  },
  {
   "cell_type": "markdown",
   "id": "e0184923",
   "metadata": {},
   "source": [
    "# Population Statistics"
   ]
  },
  {
   "cell_type": "code",
   "execution_count": 43,
   "id": "c97eab2c",
   "metadata": {},
   "outputs": [],
   "source": [
    "def population(year,sex,age_range,place):\n",
    "    \n",
    "    SOURCE = 40 # \"Population estimates and projections\n",
    "\n",
    "    indicators = wbdata.get_indicator(source=SOURCE)\n",
    "    indicators\n",
    "    \n",
    "    indicator_dict = {}\n",
    "    for indicator in indicators:\n",
    "        ID = indicator['id']\n",
    "        name = indicator['name']\n",
    "        indicator_dict[name] = ID\n",
    "    \n",
    "    \n",
    "    label = f'Population ages {age_range}, {sex.lower()}'\n",
    "    # Give variable for clarity\n",
    "    \n",
    "    variable_labels = {(indicator_dict[label]): label}\n",
    "\n",
    "    df = wbdata.get_dataframe(variable_labels, country=place)\n",
    "\n",
    "    # Date index is of type string; change to integers\n",
    "    df.index = world.index.astype(int)\n",
    "    \n",
    "    print(df.loc[year, label])"
   ]
  },
  {
   "cell_type": "markdown",
   "id": "fdf4065c",
   "metadata": {},
   "source": [
    "# Unit Tests"
   ]
  },
  {
   "cell_type": "markdown",
   "id": "918bb01e",
   "metadata": {},
   "source": [
    "# Population Dataframes"
   ]
  },
  {
   "cell_type": "markdown",
   "id": "f1b29bac",
   "metadata": {},
   "source": [
    "# Population Pyramids"
   ]
  },
  {
   "cell_type": "code",
   "execution_count": null,
   "id": "a9a29aaa",
   "metadata": {},
   "outputs": [],
   "source": []
  }
 ],
 "metadata": {
  "kernelspec": {
   "display_name": "Python 3 (ipykernel)",
   "language": "python",
   "name": "python3"
  },
  "language_info": {
   "codemirror_mode": {
    "name": "ipython",
    "version": 3
   },
   "file_extension": ".py",
   "mimetype": "text/x-python",
   "name": "python",
   "nbconvert_exporter": "python",
   "pygments_lexer": "ipython3",
   "version": "3.11.5"
  }
 },
 "nbformat": 4,
 "nbformat_minor": 5
}
