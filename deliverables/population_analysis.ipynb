{
 "cells": [
  {
   "cell_type": "markdown",
   "id": "f1a06e52",
   "metadata": {},
   "source": [
    "# Our Country: Colombia"
   ]
  },
  {
   "cell_type": "code",
   "execution_count": 29,
   "id": "f6def48e",
   "metadata": {},
   "outputs": [],
   "source": [
    "### Uncomment this to download\n",
    "# !pip install wbdata\n",
    "import pandas\n",
    "import wbdata\n",
    "import re"
   ]
  },
  {
   "cell_type": "markdown",
   "id": "e0184923",
   "metadata": {},
   "source": [
    "# Population Statistics"
   ]
  },
  {
   "cell_type": "code",
   "execution_count": 284,
   "id": "c97eab2c",
   "metadata": {},
   "outputs": [],
   "source": [
    "def get_indicators_dict(src):\n",
    "    indicators = wbdata.get_indicator(source = src)\n",
    "    \n",
    "    indicator_dict = {}\n",
    "    for indicator in indicators:\n",
    "        ID = indicator['id']\n",
    "        name = indicator['name']\n",
    "        indicator_dict[name] = ID\n",
    "        \n",
    "    return indicator_dict\n",
    "    \n",
    "\n",
    "def population(year, sex, age_range, place, mute=True):\n",
    "    src = 40\n",
    "    \n",
    "    indicator_dict = get_indicators_dict(src)\n",
    "    \n",
    "    label = f'Population ages {age_range[0]}-{age_range[1]}, {sex.lower()}'\n",
    "    \n",
    "    try:\n",
    "        variable_labels = {(indicator_dict[label]): label}\n",
    "\n",
    "        try:\n",
    "            df = wbdata.get_dataframe(variable_labels, country=place)\n",
    "            df.index = df.index.astype(int)\n",
    "            return df.loc[year, label]\n",
    "        except:\n",
    "            if not mute:\n",
    "                print('Invalid Country: Use find_country() to find valid countries')\n",
    "            return 'Invalid Country'\n",
    "        \n",
    "    except:\n",
    "        valid_queries = get_indicators_dict(40).keys()\n",
    "        valid_queries = [q for q in valid_queries if q.find('Population ages') != -1 & q.find('(% of') == -1]\n",
    "        error_message = f'''\n",
    "Invalid Query:\n",
    "Valid Queries:\n",
    "{valid_queries}\n",
    "        '''\n",
    "        \n",
    "        if not mute:\n",
    "            print(error_message)\n",
    "        return 'Invalid Query'\n",
    "\n",
    "def find_country(country):\n",
    "    print(wbdata.search_countries())"
   ]
  },
  {
   "cell_type": "code",
   "execution_count": 285,
   "id": "b58f90d5",
   "metadata": {},
   "outputs": [
    {
     "data": {
      "text/plain": [
       "1873332.0"
      ]
     },
     "execution_count": 285,
     "metadata": {},
     "output_type": "execute_result"
    }
   ],
   "source": [
    "eg = population(2020, 'male', ('00','04'), 'COL')\n",
    "eg"
   ]
  },
  {
   "cell_type": "markdown",
   "id": "fdf4065c",
   "metadata": {},
   "source": [
    "# Unit Tests"
   ]
  },
  {
   "cell_type": "code",
   "execution_count": 286,
   "id": "8784f238",
   "metadata": {
    "scrolled": true
   },
   "outputs": [],
   "source": [
    "def unit_test(case):\n",
    "    if case:\n",
    "        print('Test Case Passed')\n",
    "        return case\n",
    "    else:\n",
    "        print('Test Case Failed')\n",
    "        return case"
   ]
  },
  {
   "cell_type": "markdown",
   "id": "afa08dce",
   "metadata": {},
   "source": [
    "### Test the Value Returns Correct Answers"
   ]
  },
  {
   "cell_type": "code",
   "execution_count": 287,
   "id": "5bca99ba",
   "metadata": {},
   "outputs": [
    {
     "name": "stdout",
     "output_type": "stream",
     "text": [
      "Test 1:\n",
      "Test Case Passed\n",
      "\n",
      "Test 2:\n",
      "Test Case Passed\n",
      "\n",
      "Test 3:\n",
      "Test Case Passed\n",
      "\n",
      "Test 4:\n",
      "Test Case Passed\n",
      "\n",
      "Test 5:\n",
      "Test Case Passed\n",
      "\n",
      "Test 6:\n",
      "Test Case Passed\n"
     ]
    }
   ],
   "source": [
    "n = 1\n",
    "\n",
    "### Test the Unit Test Works\n",
    "case = population(2020, 'total', ('15','64'), 'COL') < 0\n",
    "print(f'Test {n}:')\n",
    "unit_test(~(case))\n",
    "n += 1\n",
    "\n",
    "### Basic Functionality\n",
    "case = population(2020, 'total', ('15','64'), 'COL') > 1e6\n",
    "print(f'\\nTest {n}:')\n",
    "unit_test(case)\n",
    "n += 1\n",
    "\n",
    "### Test the year hyperparameter works\n",
    "case = population(2020, 'total', ('15','64'), 'COL') != population(2021, 'total', ('15','64'), 'COL')\n",
    "print(f'\\nTest {n}:')\n",
    "unit_test(case)\n",
    "n += 1\n",
    "\n",
    "### Test the sex hyperparameter works\n",
    "case = population(2020, 'total', ('15','64'), 'COL') > population(2020, 'male', ('15','64'), 'COL')\n",
    "print(f'\\nTest {n}:')\n",
    "unit_test(case)\n",
    "n += 1\n",
    "\n",
    "### Test the place hyperparameter works\n",
    "case = population(2020, 'total', ('15','64'), 'COL') != population(2020, 'total', ('15','64'), 'USA')\n",
    "print(f'\\nTest {n}:')\n",
    "unit_test(case)\n",
    "n += 1\n",
    "\n",
    "### Test the age_range hyperparameter works\n",
    "case = population(2020, 'male', ('15','19'), 'COL') != population(2020, 'male', ('0','14'), 'COL')\n",
    "print(f'\\nTest {n}:')\n",
    "unit_test(case)\n",
    "n += 1"
   ]
  },
  {
   "cell_type": "markdown",
   "id": "363a3f87",
   "metadata": {},
   "source": [
    "### Test the Error Messages Work"
   ]
  },
  {
   "cell_type": "code",
   "execution_count": 288,
   "id": "691b96dc",
   "metadata": {
    "scrolled": true
   },
   "outputs": [
    {
     "name": "stdout",
     "output_type": "stream",
     "text": [
      "Test 1:\n",
      "Test Case Passed\n",
      "\n",
      "Test 2:\n",
      "Test Case Passed\n"
     ]
    }
   ],
   "source": [
    "n = 1\n",
    "\n",
    "### Test the Invalid Country Message Works\n",
    "case = population(2020, 'total', ('15','64'), 'SPAM', mute=True) == 'Invalid Country'\n",
    "print(f'Test {n}:')\n",
    "unit_test(~(case))\n",
    "n += 1\n",
    "\n",
    "### Test the Invalid Query Message Works\n",
    "case = population(2020, 'total', ('15','SPAM'), 'COL', mute=True) == 'Invalid Query'\n",
    "print(f'\\nTest {n}:')\n",
    "unit_test(case)\n",
    "n += 1"
   ]
  },
  {
   "cell_type": "markdown",
   "id": "918bb01e",
   "metadata": {},
   "source": [
    "# Population Dataframes"
   ]
  },
  {
   "cell_type": "markdown",
   "id": "f1b29bac",
   "metadata": {},
   "source": [
    "# Population Pyramids"
   ]
  },
  {
   "cell_type": "code",
   "execution_count": null,
   "id": "a9a29aaa",
   "metadata": {},
   "outputs": [],
   "source": []
  }
 ],
 "metadata": {
  "kernelspec": {
   "display_name": "Python 3 (ipykernel)",
   "language": "python",
   "name": "python3"
  },
  "language_info": {
   "codemirror_mode": {
    "name": "ipython",
    "version": 3
   },
   "file_extension": ".py",
   "mimetype": "text/x-python",
   "name": "python",
   "nbconvert_exporter": "python",
   "pygments_lexer": "ipython3",
   "version": "3.11.5"
  }
 },
 "nbformat": 4,
 "nbformat_minor": 5
}
