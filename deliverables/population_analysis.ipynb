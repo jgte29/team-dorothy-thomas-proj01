{
 "cells": [
  {
   "cell_type": "markdown",
   "id": "f1a06e52",
   "metadata": {},
   "source": [
    "# Our Country: Colombia"
   ]
  },
  {
   "cell_type": "code",
   "execution_count": 131,
   "id": "f6def48e",
   "metadata": {},
   "outputs": [],
   "source": [
    "### Uncomment this to download\n",
    "# !pip install wbdata\n",
    "import numpy as np\n",
    "import pandas as pd\n",
    "import wbdata\n",
    "import re\n",
    "import plotly.offline as py\n",
    "import plotly.graph_objs as go"
   ]
  },
  {
   "cell_type": "markdown",
   "id": "e0184923",
   "metadata": {},
   "source": [
    "# Population Statistics"
   ]
  },
  {
   "cell_type": "code",
   "execution_count": 2,
   "id": "c97eab2c",
   "metadata": {},
   "outputs": [],
   "source": [
    "def get_indicators_dict(src):\n",
    "    indicators = wbdata.get_indicator(source = src)\n",
    "    \n",
    "    indicator_dict = {}\n",
    "    for indicator in indicators:\n",
    "        ID = indicator['id']\n",
    "        name = indicator['name']\n",
    "        indicator_dict[name] = ID\n",
    "        \n",
    "    return indicator_dict\n",
    "    \n",
    "\n",
    "def population(year, sex, age_range, place, whole_df = False, mute=True):\n",
    "    src = 40\n",
    "    \n",
    "    indicator_dict = get_indicators_dict(src)\n",
    "    \n",
    "    try:\n",
    "        try: # For queries like 'Population ages 10-14, female'\n",
    "            label = f'Population ages {age_range[0]}-{age_range[1]}, {sex.lower()}'\n",
    "            variable_labels = {(indicator_dict[label]): label}\n",
    "            \n",
    "        except: # For queries like 'Population ages 65 and above, female'\n",
    "            label = f'Population ages {age_range[0]} and {age_range[1]}, {sex.lower()}'\n",
    "            variable_labels = {(indicator_dict[label]): label}            \n",
    "\n",
    "        try:\n",
    "            df = wbdata.get_dataframe(variable_labels, country=place)\n",
    "            df.index = df.index.astype(int)\n",
    "            if not whole_df:\n",
    "                return df.loc[year, label]\n",
    "            else: ### Returns the whole df if no year specified\n",
    "                return df\n",
    "        except:\n",
    "            if not mute:\n",
    "                print('Invalid Country: Use find_country() to find valid countries')\n",
    "            return 'Invalid Country'\n",
    "        \n",
    "    except:\n",
    "        valid_queries = get_indicators_dict(40).keys()\n",
    "        valid_queries = [q for q in valid_queries if q.find('Population ages') != -1 & q.find('(% of') == -1]\n",
    "        error_message = f'''\n",
    "Invalid Query:\n",
    "Valid Queries:\n",
    "{valid_queries}\n",
    "        '''\n",
    "        \n",
    "        if not mute:\n",
    "            print(error_message)\n",
    "        return 'Invalid Query'\n",
    "\n",
    "def find_country(country):\n",
    "    print(wbdata.search_countries())"
   ]
  },
  {
   "cell_type": "code",
   "execution_count": 3,
   "id": "1423ab05",
   "metadata": {},
   "outputs": [
    {
     "data": {
      "text/plain": [
       "1873332.0"
      ]
     },
     "execution_count": 3,
     "metadata": {},
     "output_type": "execute_result"
    }
   ],
   "source": [
    "eg = population(2020, 'male', ('00','04'), 'COL')\n",
    "eg"
   ]
  },
  {
   "cell_type": "markdown",
   "id": "fdf4065c",
   "metadata": {},
   "source": [
    "# Unit Tests"
   ]
  },
  {
   "cell_type": "code",
   "execution_count": 4,
   "id": "bac74798",
   "metadata": {
    "scrolled": true
   },
   "outputs": [],
   "source": [
    "def unit_test(case):\n",
    "    if case:\n",
    "        print('Test Case Passed')\n",
    "        return case\n",
    "    else:\n",
    "        print('Test Case Failed')\n",
    "        return case"
   ]
  },
  {
   "cell_type": "markdown",
   "id": "80394eb0",
   "metadata": {},
   "source": [
    "### Test the Value Returns Correct Answers"
   ]
  },
  {
   "cell_type": "code",
   "execution_count": 5,
   "id": "469840f9",
   "metadata": {},
   "outputs": [
    {
     "name": "stdout",
     "output_type": "stream",
     "text": [
      "Test 1:\n",
      "Test Case Passed\n",
      "\n",
      "Test 2:\n",
      "Test Case Passed\n",
      "\n",
      "Test 3:\n",
      "Test Case Passed\n",
      "\n",
      "Test 4:\n",
      "Test Case Passed\n",
      "\n",
      "Test 5:\n",
      "Test Case Passed\n",
      "\n",
      "Test 6:\n",
      "Test Case Passed\n",
      "\n",
      "Test 7:\n",
      "Test Case Failed\n"
     ]
    }
   ],
   "source": [
    "n = 1\n",
    "\n",
    "### Test the Unit Test Works\n",
    "case = population(2020, 'total', ('15','64'), 'COL') < 0\n",
    "print(f'Test {n}:')\n",
    "unit_test(~(case))\n",
    "n += 1\n",
    "\n",
    "### Basic Functionality\n",
    "case = population(2020, 'total', ('15','64'), 'COL') > 1e6\n",
    "print(f'\\nTest {n}:')\n",
    "unit_test(case)\n",
    "n += 1\n",
    "\n",
    "### Test the year hyperparameter works\n",
    "case = population(2020, 'total', ('15','64'), 'COL') != population(2021, 'total', ('15','64'), 'COL')\n",
    "print(f'\\nTest {n}:')\n",
    "unit_test(case)\n",
    "n += 1\n",
    "\n",
    "### Test the sex hyperparameter works\n",
    "case = population(2020, 'total', ('15','64'), 'COL') > population(2020, 'male', ('15','64'), 'COL')\n",
    "print(f'\\nTest {n}:')\n",
    "unit_test(case)\n",
    "n += 1\n",
    "\n",
    "### Test the place hyperparameter works\n",
    "case = population(2020, 'total', ('15','64'), 'COL') != population(2020, 'total', ('15','64'), 'USA')\n",
    "print(f'\\nTest {n}:')\n",
    "unit_test(case)\n",
    "n += 1\n",
    "\n",
    "### Test the age_range hyperparameter works w/ '-'\n",
    "case = population(2020, 'male', ('15','19'), 'COL') != population(2020, 'male', ('0','14'), 'COL')\n",
    "print(f'\\nTest {n}:')\n",
    "unit_test(case)\n",
    "n += 1\n",
    "\n",
    "### Test the age_range hyperparameter works w/ '-'\n",
    "case = type(population(2020, 'male', ('80','above'), 'COL')) == int\n",
    "print(f'\\nTest {n}:')\n",
    "unit_test(case)\n",
    "n += 1"
   ]
  },
  {
   "cell_type": "markdown",
   "id": "4253cdba",
   "metadata": {},
   "source": [
    "### Test the Error Messages Work"
   ]
  },
  {
   "cell_type": "code",
   "execution_count": 6,
   "id": "65fad38a",
   "metadata": {
    "scrolled": true
   },
   "outputs": [
    {
     "name": "stdout",
     "output_type": "stream",
     "text": [
      "Test 1:\n",
      "Test Case Passed\n",
      "\n",
      "Test 2:\n",
      "Test Case Passed\n"
     ]
    }
   ],
   "source": [
    "n = 1\n",
    "\n",
    "### Test the Invalid Country Message Works\n",
    "case = population(2020, 'total', ('15','64'), 'SPAM', mute=True) == 'Invalid Country'\n",
    "print(f'Test {n}:')\n",
    "unit_test(~(case))\n",
    "n += 1\n",
    "\n",
    "### Test the Invalid Query Message Works\n",
    "case = population(2020, 'total', ('15','SPAM'), 'COL', mute=True) == 'Invalid Query'\n",
    "print(f'\\nTest {n}:')\n",
    "unit_test(case)\n",
    "n += 1"
   ]
  },
  {
   "cell_type": "markdown",
   "id": "918bb01e",
   "metadata": {},
   "source": [
    "# Population Dataframes"
   ]
  },
  {
   "cell_type": "code",
   "execution_count": 9,
   "id": "c9c2da97",
   "metadata": {},
   "outputs": [],
   "source": [
    "all_countries = wbdata.get_country()\n",
    "\n",
    "country_list = []\n",
    "for country in all_countries:\n",
    "    c = country['id']\n",
    "    country_list += [c]"
   ]
  },
  {
   "cell_type": "code",
   "execution_count": 29,
   "id": "eb0701f3",
   "metadata": {},
   "outputs": [],
   "source": [
    "def get_valid_ranges(total = False):\n",
    "    if total:\n",
    "        valid_queries = get_indicators_dict(40).keys()\n",
    "        valid_queries = [q for q in valid_queries if (q.find('Population ages') != -1) \n",
    "                         & (q.find(', total') != -1) & (q.find('(% of') == -1)]\n",
    "    else:\n",
    "        valid_queries = get_indicators_dict(40).keys()\n",
    "        valid_queries = [q for q in valid_queries if (q.find('Population ages') != -1) \n",
    "                         & (q.find(', female') != -1) & (q.find('(% of') == -1)]\n",
    "    \n",
    "    valid_ranges = []\n",
    "    for q in valid_queries:\n",
    "        m = re.search(r'(\\d+-\\d+|\\d+ and above)', q)\n",
    "        age_range = m.group(1)\n",
    "        valid_ranges += [age_range]\n",
    "\n",
    "    valid_ranges = [(re.split(r\"[- | '']\", r)[0], \n",
    "                     re.split(r\"[- | '']\", r)[-1]) for r in valid_ranges]\n",
    "\n",
    "    return valid_ranges\n",
    "        \n",
    "\n",
    "def population_dataframe(place):   \n",
    "    data_dict = {}\n",
    "    sexes = ['male', 'female']\n",
    "\n",
    "    valid_ranges = get_valid_ranges()\n",
    "\n",
    "    ## Need to iterate for male & female\n",
    "    for s in sexes:\n",
    "    ### Need to iterate for each age_range\n",
    "        for r in valid_ranges:\n",
    "            if r[1] == 'above':\n",
    "                col_name = f'{s.capitalize()}s, Ages {r[0]} and {r[1]}'\n",
    "            else:\n",
    "                col_name = f'{s.capitalize()}s, Ages {r[0]}-{r[1]}'\n",
    "\n",
    "            pop_df = population(2020, s, r, place, whole_df = True)\n",
    "\n",
    "            try:\n",
    "                data_dict['Year'] = pop_df.index\n",
    "                data_dict[col_name] = pop_df.iloc[:, 0]\n",
    "                data_dict['Country'] = [place] * len(data_dict['Year'])\n",
    "            except: # Skips if query fails\n",
    "                pass\n",
    "\n",
    "    ### For the Totals Columns\n",
    "    valid_ranges = get_valid_ranges(total = True)\n",
    "    \n",
    "    for r in valid_ranges:\n",
    "        if r[1] == 'above':\n",
    "            col_name = f'Totals, Ages {r[0]} and {r[1]}'\n",
    "        else:\n",
    "            col_name = f'Totals, Ages {r[0]}-{r[1]}'\n",
    "\n",
    "        pop_df = population(2020, s, r, place, whole_df = True)\n",
    "\n",
    "        try:\n",
    "            data_dict[col_name] = pop_df.iloc[:, 0]\n",
    "        except: # Skips if query fails\n",
    "            pass   \n",
    "    \n",
    "    try:\n",
    "        cdf = pd.DataFrame(data_dict)\n",
    "        cdf.set_index(['Year', 'Country'], inplace = True)\n",
    "        return cdf\n",
    "    except: # Skips if df does not exist (i.e. Only Invalid Queries/Countries)\n",
    "        return 'Could Not Return Dataframe'"
   ]
  },
  {
   "cell_type": "code",
   "execution_count": 42,
   "id": "c365e42c",
   "metadata": {
    "scrolled": true
   },
   "outputs": [
    {
     "ename": "NameError",
     "evalue": "name 'variables' is not defined",
     "output_type": "error",
     "traceback": [
      "\u001b[1;31m---------------------------------------------------------------------------\u001b[0m",
      "\u001b[1;31mNameError\u001b[0m                                 Traceback (most recent call last)",
      "Cell \u001b[1;32mIn[42], line 1\u001b[0m\n\u001b[1;32m----> 1\u001b[0m df \u001b[38;5;241m=\u001b[39m wbdata\u001b[38;5;241m.\u001b[39mget_dataframe(variables,country\u001b[38;5;241m=\u001b[39m\u001b[38;5;124m\"\u001b[39m\u001b[38;5;124mWLD\u001b[39m\u001b[38;5;124m\"\u001b[39m)\n\u001b[0;32m      2\u001b[0m df\n",
      "\u001b[1;31mNameError\u001b[0m: name 'variables' is not defined"
     ]
    }
   ],
   "source": [
    "df = wbdata.get_dataframe(variables,country=\"WLD\")\n",
    "df"
   ]
  },
  {
   "cell_type": "code",
   "execution_count": 30,
   "id": "9e67334d",
   "metadata": {},
   "outputs": [
    {
     "data": {
      "text/html": [
       "<div>\n",
       "<style scoped>\n",
       "    .dataframe tbody tr th:only-of-type {\n",
       "        vertical-align: middle;\n",
       "    }\n",
       "\n",
       "    .dataframe tbody tr th {\n",
       "        vertical-align: top;\n",
       "    }\n",
       "\n",
       "    .dataframe thead th {\n",
       "        text-align: right;\n",
       "    }\n",
       "</style>\n",
       "<table border=\"1\" class=\"dataframe\">\n",
       "  <thead>\n",
       "    <tr style=\"text-align: right;\">\n",
       "      <th></th>\n",
       "      <th></th>\n",
       "      <th>Males, Ages 00-04</th>\n",
       "      <th>Males, Ages 0-14</th>\n",
       "      <th>Males, Ages 05-09</th>\n",
       "      <th>Males, Ages 10-14</th>\n",
       "      <th>Males, Ages 15-19</th>\n",
       "      <th>Males, Ages 15-64</th>\n",
       "      <th>Males, Ages 20-24</th>\n",
       "      <th>Males, Ages 25-29</th>\n",
       "      <th>Males, Ages 30-34</th>\n",
       "      <th>Males, Ages 35-39</th>\n",
       "      <th>...</th>\n",
       "      <th>Females, Ages 55-59</th>\n",
       "      <th>Females, Ages 60-64</th>\n",
       "      <th>Females, Ages 65-69</th>\n",
       "      <th>Females, Ages 65 and above</th>\n",
       "      <th>Females, Ages 70-74</th>\n",
       "      <th>Females, Ages 75-79</th>\n",
       "      <th>Females, Ages 80 and above</th>\n",
       "      <th>Totals, Ages 0-14</th>\n",
       "      <th>Totals, Ages 15-64</th>\n",
       "      <th>Totals, Ages 65 and above</th>\n",
       "    </tr>\n",
       "    <tr>\n",
       "      <th>Year</th>\n",
       "      <th>Country</th>\n",
       "      <th></th>\n",
       "      <th></th>\n",
       "      <th></th>\n",
       "      <th></th>\n",
       "      <th></th>\n",
       "      <th></th>\n",
       "      <th></th>\n",
       "      <th></th>\n",
       "      <th></th>\n",
       "      <th></th>\n",
       "      <th></th>\n",
       "      <th></th>\n",
       "      <th></th>\n",
       "      <th></th>\n",
       "      <th></th>\n",
       "      <th></th>\n",
       "      <th></th>\n",
       "      <th></th>\n",
       "      <th></th>\n",
       "      <th></th>\n",
       "      <th></th>\n",
       "    </tr>\n",
       "  </thead>\n",
       "  <tbody>\n",
       "    <tr>\n",
       "      <th>2022</th>\n",
       "      <th>COL</th>\n",
       "      <td>1863450.0</td>\n",
       "      <td>5647955.0</td>\n",
       "      <td>1879870.0</td>\n",
       "      <td>1904636.0</td>\n",
       "      <td>2044762.0</td>\n",
       "      <td>17865331.0</td>\n",
       "      <td>2211820.0</td>\n",
       "      <td>2271699.0</td>\n",
       "      <td>2176677.0</td>\n",
       "      <td>1980767.0</td>\n",
       "      <td>...</td>\n",
       "      <td>1464314.0</td>\n",
       "      <td>1243123.0</td>\n",
       "      <td>960937.0</td>\n",
       "      <td>2605831.0</td>\n",
       "      <td>696194.0</td>\n",
       "      <td>472134.0</td>\n",
       "      <td>476565.0</td>\n",
       "      <td>5423484.0</td>\n",
       "      <td>18269102.0</td>\n",
       "      <td>2605831.0</td>\n",
       "    </tr>\n",
       "    <tr>\n",
       "      <th>2021</th>\n",
       "      <th>COL</th>\n",
       "      <td>1872904.0</td>\n",
       "      <td>5675317.0</td>\n",
       "      <td>1880579.0</td>\n",
       "      <td>1921834.0</td>\n",
       "      <td>2085844.0</td>\n",
       "      <td>17749414.0</td>\n",
       "      <td>2237669.0</td>\n",
       "      <td>2272080.0</td>\n",
       "      <td>2145863.0</td>\n",
       "      <td>1947363.0</td>\n",
       "      <td>...</td>\n",
       "      <td>1443643.0</td>\n",
       "      <td>1201652.0</td>\n",
       "      <td>922318.0</td>\n",
       "      <td>2501582.0</td>\n",
       "      <td>665106.0</td>\n",
       "      <td>452538.0</td>\n",
       "      <td>461621.0</td>\n",
       "      <td>5450187.0</td>\n",
       "      <td>18149552.0</td>\n",
       "      <td>2501582.0</td>\n",
       "    </tr>\n",
       "    <tr>\n",
       "      <th>2020</th>\n",
       "      <th>COL</th>\n",
       "      <td>1873332.0</td>\n",
       "      <td>5695619.0</td>\n",
       "      <td>1880087.0</td>\n",
       "      <td>1942201.0</td>\n",
       "      <td>2113654.0</td>\n",
       "      <td>17526007.0</td>\n",
       "      <td>2239826.0</td>\n",
       "      <td>2247557.0</td>\n",
       "      <td>2098935.0</td>\n",
       "      <td>1903638.0</td>\n",
       "      <td>...</td>\n",
       "      <td>1414124.0</td>\n",
       "      <td>1157392.0</td>\n",
       "      <td>883473.0</td>\n",
       "      <td>2397042.0</td>\n",
       "      <td>634029.0</td>\n",
       "      <td>432973.0</td>\n",
       "      <td>446568.0</td>\n",
       "      <td>5469585.0</td>\n",
       "      <td>17924448.0</td>\n",
       "      <td>2397042.0</td>\n",
       "    </tr>\n",
       "    <tr>\n",
       "      <th>2019</th>\n",
       "      <th>COL</th>\n",
       "      <td>1868705.0</td>\n",
       "      <td>5716525.0</td>\n",
       "      <td>1881583.0</td>\n",
       "      <td>1966236.0</td>\n",
       "      <td>2131193.0</td>\n",
       "      <td>17230258.0</td>\n",
       "      <td>2228019.0</td>\n",
       "      <td>2207686.0</td>\n",
       "      <td>2045197.0</td>\n",
       "      <td>1854395.0</td>\n",
       "      <td>...</td>\n",
       "      <td>1375497.0</td>\n",
       "      <td>1109581.0</td>\n",
       "      <td>842826.0</td>\n",
       "      <td>2284866.0</td>\n",
       "      <td>600957.0</td>\n",
       "      <td>411437.0</td>\n",
       "      <td>429646.0</td>\n",
       "      <td>5489346.0</td>\n",
       "      <td>17633894.0</td>\n",
       "      <td>2284866.0</td>\n",
       "    </tr>\n",
       "    <tr>\n",
       "      <th>2018</th>\n",
       "      <th>COL</th>\n",
       "      <td>1860651.0</td>\n",
       "      <td>5736828.0</td>\n",
       "      <td>1884949.0</td>\n",
       "      <td>1991227.0</td>\n",
       "      <td>2134154.0</td>\n",
       "      <td>16856472.0</td>\n",
       "      <td>2198986.0</td>\n",
       "      <td>2150158.0</td>\n",
       "      <td>1984049.0</td>\n",
       "      <td>1798082.0</td>\n",
       "      <td>...</td>\n",
       "      <td>1330663.0</td>\n",
       "      <td>1060247.0</td>\n",
       "      <td>799790.0</td>\n",
       "      <td>2170200.0</td>\n",
       "      <td>569642.0</td>\n",
       "      <td>389033.0</td>\n",
       "      <td>411735.0</td>\n",
       "      <td>5508007.0</td>\n",
       "      <td>17267700.0</td>\n",
       "      <td>2170200.0</td>\n",
       "    </tr>\n",
       "    <tr>\n",
       "      <th>...</th>\n",
       "      <th>...</th>\n",
       "      <td>...</td>\n",
       "      <td>...</td>\n",
       "      <td>...</td>\n",
       "      <td>...</td>\n",
       "      <td>...</td>\n",
       "      <td>...</td>\n",
       "      <td>...</td>\n",
       "      <td>...</td>\n",
       "      <td>...</td>\n",
       "      <td>...</td>\n",
       "      <td>...</td>\n",
       "      <td>...</td>\n",
       "      <td>...</td>\n",
       "      <td>...</td>\n",
       "      <td>...</td>\n",
       "      <td>...</td>\n",
       "      <td>...</td>\n",
       "      <td>...</td>\n",
       "      <td>...</td>\n",
       "      <td>...</td>\n",
       "      <td>...</td>\n",
       "    </tr>\n",
       "    <tr>\n",
       "      <th>1964</th>\n",
       "      <th>COL</th>\n",
       "      <td>1688662.0</td>\n",
       "      <td>4255437.0</td>\n",
       "      <td>1406775.0</td>\n",
       "      <td>1159999.0</td>\n",
       "      <td>919903.0</td>\n",
       "      <td>4363247.0</td>\n",
       "      <td>732719.0</td>\n",
       "      <td>587877.0</td>\n",
       "      <td>498942.0</td>\n",
       "      <td>419034.0</td>\n",
       "      <td>...</td>\n",
       "      <td>200371.0</td>\n",
       "      <td>156923.0</td>\n",
       "      <td>123563.0</td>\n",
       "      <td>310012.0</td>\n",
       "      <td>88759.0</td>\n",
       "      <td>57667.0</td>\n",
       "      <td>40023.0</td>\n",
       "      <td>4137052.0</td>\n",
       "      <td>4444896.0</td>\n",
       "      <td>310012.0</td>\n",
       "    </tr>\n",
       "    <tr>\n",
       "      <th>1963</th>\n",
       "      <th>COL</th>\n",
       "      <td>1649980.0</td>\n",
       "      <td>4122271.0</td>\n",
       "      <td>1358786.0</td>\n",
       "      <td>1113505.0</td>\n",
       "      <td>884553.0</td>\n",
       "      <td>4233603.0</td>\n",
       "      <td>706668.0</td>\n",
       "      <td>574609.0</td>\n",
       "      <td>488153.0</td>\n",
       "      <td>408355.0</td>\n",
       "      <td>...</td>\n",
       "      <td>193886.0</td>\n",
       "      <td>153687.0</td>\n",
       "      <td>120213.0</td>\n",
       "      <td>300078.0</td>\n",
       "      <td>86701.0</td>\n",
       "      <td>55023.0</td>\n",
       "      <td>38140.0</td>\n",
       "      <td>4011118.0</td>\n",
       "      <td>4319248.0</td>\n",
       "      <td>300078.0</td>\n",
       "    </tr>\n",
       "    <tr>\n",
       "      <th>1962</th>\n",
       "      <th>COL</th>\n",
       "      <td>1607957.0</td>\n",
       "      <td>3984776.0</td>\n",
       "      <td>1311023.0</td>\n",
       "      <td>1065797.0</td>\n",
       "      <td>853571.0</td>\n",
       "      <td>4112817.0</td>\n",
       "      <td>682476.0</td>\n",
       "      <td>563376.0</td>\n",
       "      <td>477068.0</td>\n",
       "      <td>397490.0</td>\n",
       "      <td>...</td>\n",
       "      <td>188221.0</td>\n",
       "      <td>150961.0</td>\n",
       "      <td>116467.0</td>\n",
       "      <td>290189.0</td>\n",
       "      <td>84973.0</td>\n",
       "      <td>52200.0</td>\n",
       "      <td>36549.0</td>\n",
       "      <td>3881925.0</td>\n",
       "      <td>4201114.0</td>\n",
       "      <td>290189.0</td>\n",
       "    </tr>\n",
       "    <tr>\n",
       "      <th>1961</th>\n",
       "      <th>COL</th>\n",
       "      <td>1563136.0</td>\n",
       "      <td>3848515.0</td>\n",
       "      <td>1263980.0</td>\n",
       "      <td>1021399.0</td>\n",
       "      <td>822609.0</td>\n",
       "      <td>3996507.0</td>\n",
       "      <td>660764.0</td>\n",
       "      <td>552624.0</td>\n",
       "      <td>466079.0</td>\n",
       "      <td>386731.0</td>\n",
       "      <td>...</td>\n",
       "      <td>183074.0</td>\n",
       "      <td>148274.0</td>\n",
       "      <td>112844.0</td>\n",
       "      <td>280704.0</td>\n",
       "      <td>83135.0</td>\n",
       "      <td>49499.0</td>\n",
       "      <td>35224.0</td>\n",
       "      <td>3753417.0</td>\n",
       "      <td>4086991.0</td>\n",
       "      <td>280704.0</td>\n",
       "    </tr>\n",
       "    <tr>\n",
       "      <th>1960</th>\n",
       "      <th>COL</th>\n",
       "      <td>1516654.0</td>\n",
       "      <td>3713810.0</td>\n",
       "      <td>1218517.0</td>\n",
       "      <td>978640.0</td>\n",
       "      <td>792974.0</td>\n",
       "      <td>3886154.0</td>\n",
       "      <td>641800.0</td>\n",
       "      <td>541643.0</td>\n",
       "      <td>455425.0</td>\n",
       "      <td>376305.0</td>\n",
       "      <td>...</td>\n",
       "      <td>178306.0</td>\n",
       "      <td>145303.0</td>\n",
       "      <td>109665.0</td>\n",
       "      <td>271804.0</td>\n",
       "      <td>80914.0</td>\n",
       "      <td>47092.0</td>\n",
       "      <td>34135.0</td>\n",
       "      <td>3626201.0</td>\n",
       "      <td>3977805.0</td>\n",
       "      <td>271804.0</td>\n",
       "    </tr>\n",
       "  </tbody>\n",
       "</table>\n",
       "<p>63 rows × 43 columns</p>\n",
       "</div>"
      ],
      "text/plain": [
       "              Males, Ages 00-04  Males, Ages 0-14  Males, Ages 05-09  \\\n",
       "Year Country                                                           \n",
       "2022 COL              1863450.0         5647955.0          1879870.0   \n",
       "2021 COL              1872904.0         5675317.0          1880579.0   \n",
       "2020 COL              1873332.0         5695619.0          1880087.0   \n",
       "2019 COL              1868705.0         5716525.0          1881583.0   \n",
       "2018 COL              1860651.0         5736828.0          1884949.0   \n",
       "...                         ...               ...                ...   \n",
       "1964 COL              1688662.0         4255437.0          1406775.0   \n",
       "1963 COL              1649980.0         4122271.0          1358786.0   \n",
       "1962 COL              1607957.0         3984776.0          1311023.0   \n",
       "1961 COL              1563136.0         3848515.0          1263980.0   \n",
       "1960 COL              1516654.0         3713810.0          1218517.0   \n",
       "\n",
       "              Males, Ages 10-14  Males, Ages 15-19  Males, Ages 15-64  \\\n",
       "Year Country                                                            \n",
       "2022 COL              1904636.0          2044762.0         17865331.0   \n",
       "2021 COL              1921834.0          2085844.0         17749414.0   \n",
       "2020 COL              1942201.0          2113654.0         17526007.0   \n",
       "2019 COL              1966236.0          2131193.0         17230258.0   \n",
       "2018 COL              1991227.0          2134154.0         16856472.0   \n",
       "...                         ...                ...                ...   \n",
       "1964 COL              1159999.0           919903.0          4363247.0   \n",
       "1963 COL              1113505.0           884553.0          4233603.0   \n",
       "1962 COL              1065797.0           853571.0          4112817.0   \n",
       "1961 COL              1021399.0           822609.0          3996507.0   \n",
       "1960 COL               978640.0           792974.0          3886154.0   \n",
       "\n",
       "              Males, Ages 20-24  Males, Ages 25-29  Males, Ages 30-34  \\\n",
       "Year Country                                                            \n",
       "2022 COL              2211820.0          2271699.0          2176677.0   \n",
       "2021 COL              2237669.0          2272080.0          2145863.0   \n",
       "2020 COL              2239826.0          2247557.0          2098935.0   \n",
       "2019 COL              2228019.0          2207686.0          2045197.0   \n",
       "2018 COL              2198986.0          2150158.0          1984049.0   \n",
       "...                         ...                ...                ...   \n",
       "1964 COL               732719.0           587877.0           498942.0   \n",
       "1963 COL               706668.0           574609.0           488153.0   \n",
       "1962 COL               682476.0           563376.0           477068.0   \n",
       "1961 COL               660764.0           552624.0           466079.0   \n",
       "1960 COL               641800.0           541643.0           455425.0   \n",
       "\n",
       "              Males, Ages 35-39  ...  Females, Ages 55-59  \\\n",
       "Year Country                     ...                        \n",
       "2022 COL              1980767.0  ...            1464314.0   \n",
       "2021 COL              1947363.0  ...            1443643.0   \n",
       "2020 COL              1903638.0  ...            1414124.0   \n",
       "2019 COL              1854395.0  ...            1375497.0   \n",
       "2018 COL              1798082.0  ...            1330663.0   \n",
       "...                         ...  ...                  ...   \n",
       "1964 COL               419034.0  ...             200371.0   \n",
       "1963 COL               408355.0  ...             193886.0   \n",
       "1962 COL               397490.0  ...             188221.0   \n",
       "1961 COL               386731.0  ...             183074.0   \n",
       "1960 COL               376305.0  ...             178306.0   \n",
       "\n",
       "              Females, Ages 60-64  Females, Ages 65-69  \\\n",
       "Year Country                                             \n",
       "2022 COL                1243123.0             960937.0   \n",
       "2021 COL                1201652.0             922318.0   \n",
       "2020 COL                1157392.0             883473.0   \n",
       "2019 COL                1109581.0             842826.0   \n",
       "2018 COL                1060247.0             799790.0   \n",
       "...                           ...                  ...   \n",
       "1964 COL                 156923.0             123563.0   \n",
       "1963 COL                 153687.0             120213.0   \n",
       "1962 COL                 150961.0             116467.0   \n",
       "1961 COL                 148274.0             112844.0   \n",
       "1960 COL                 145303.0             109665.0   \n",
       "\n",
       "              Females, Ages 65 and above  Females, Ages 70-74  \\\n",
       "Year Country                                                    \n",
       "2022 COL                       2605831.0             696194.0   \n",
       "2021 COL                       2501582.0             665106.0   \n",
       "2020 COL                       2397042.0             634029.0   \n",
       "2019 COL                       2284866.0             600957.0   \n",
       "2018 COL                       2170200.0             569642.0   \n",
       "...                                  ...                  ...   \n",
       "1964 COL                        310012.0              88759.0   \n",
       "1963 COL                        300078.0              86701.0   \n",
       "1962 COL                        290189.0              84973.0   \n",
       "1961 COL                        280704.0              83135.0   \n",
       "1960 COL                        271804.0              80914.0   \n",
       "\n",
       "              Females, Ages 75-79  Females, Ages 80 and above  \\\n",
       "Year Country                                                    \n",
       "2022 COL                 472134.0                    476565.0   \n",
       "2021 COL                 452538.0                    461621.0   \n",
       "2020 COL                 432973.0                    446568.0   \n",
       "2019 COL                 411437.0                    429646.0   \n",
       "2018 COL                 389033.0                    411735.0   \n",
       "...                           ...                         ...   \n",
       "1964 COL                  57667.0                     40023.0   \n",
       "1963 COL                  55023.0                     38140.0   \n",
       "1962 COL                  52200.0                     36549.0   \n",
       "1961 COL                  49499.0                     35224.0   \n",
       "1960 COL                  47092.0                     34135.0   \n",
       "\n",
       "              Totals, Ages 0-14  Totals, Ages 15-64  Totals, Ages 65 and above  \n",
       "Year Country                                                                    \n",
       "2022 COL              5423484.0          18269102.0                  2605831.0  \n",
       "2021 COL              5450187.0          18149552.0                  2501582.0  \n",
       "2020 COL              5469585.0          17924448.0                  2397042.0  \n",
       "2019 COL              5489346.0          17633894.0                  2284866.0  \n",
       "2018 COL              5508007.0          17267700.0                  2170200.0  \n",
       "...                         ...                 ...                        ...  \n",
       "1964 COL              4137052.0           4444896.0                   310012.0  \n",
       "1963 COL              4011118.0           4319248.0                   300078.0  \n",
       "1962 COL              3881925.0           4201114.0                   290189.0  \n",
       "1961 COL              3753417.0           4086991.0                   280704.0  \n",
       "1960 COL              3626201.0           3977805.0                   271804.0  \n",
       "\n",
       "[63 rows x 43 columns]"
      ]
     },
     "execution_count": 30,
     "metadata": {},
     "output_type": "execute_result"
    }
   ],
   "source": [
    "eg = population_dataframe('COL')\n",
    "eg"
   ]
  },
  {
   "cell_type": "markdown",
   "id": "f1b29bac",
   "metadata": {},
   "source": [
    "# Population Pyramids"
   ]
  },
  {
   "cell_type": "code",
   "execution_count": 136,
   "id": "a9a29aaa",
   "metadata": {},
   "outputs": [
    {
     "data": {
      "text/html": [
       "        <script type=\"text/javascript\">\n",
       "        window.PlotlyConfig = {MathJaxConfig: 'local'};\n",
       "        if (window.MathJax && window.MathJax.Hub && window.MathJax.Hub.Config) {window.MathJax.Hub.Config({SVG: {font: \"STIX-Web\"}});}\n",
       "        if (typeof require !== 'undefined') {\n",
       "        require.undef(\"plotly\");\n",
       "        requirejs.config({\n",
       "            paths: {\n",
       "                'plotly': ['https://cdn.plot.ly/plotly-2.12.1.min']\n",
       "            }\n",
       "        });\n",
       "        require(['plotly'], function(Plotly) {\n",
       "            window._Plotly = Plotly;\n",
       "        });\n",
       "        }\n",
       "        </script>\n",
       "        "
      ]
     },
     "metadata": {},
     "output_type": "display_data"
    },
    {
     "data": {
      "application/vnd.plotly.v1+json": {
       "config": {
        "linkText": "Export to plot.ly",
        "plotlyServerURL": "https://plot.ly",
        "showLink": false
       },
       "data": [
        {
         "hoverinfo": "skip",
         "marker": {
          "color": "purple"
         },
         "name": "Men",
         "orientation": "h",
         "type": "bar",
         "x": [
          1873332,
          1880087,
          1942201,
          2113654,
          2239826,
          2247557,
          2098935,
          1903638,
          1678428,
          1485492,
          1426700,
          1298498,
          1033280,
          1917962
         ],
         "y": [
          0,
          5,
          10,
          15,
          20,
          25,
          30,
          35,
          40,
          45,
          50,
          55,
          60,
          65
         ]
        },
        {
         "hoverinfo": "skip",
         "marker": {
          "color": "pink"
         },
         "name": "Women",
         "orientation": "h",
         "type": "bar",
         "x": [
          -1873332,
          -1880087,
          -1942201,
          -2113654,
          -2239826,
          -2247557,
          -2098935,
          -1903638,
          -1678428,
          -1485492,
          -1426700,
          -1298498,
          -1033280,
          -1917962
         ],
         "y": [
          0,
          5,
          10,
          15,
          20,
          25,
          30,
          35,
          40,
          45,
          50,
          55,
          60,
          65
         ]
        }
       ],
       "layout": {
        "barmode": "overlay",
        "template": {
         "data": {
          "bar": [
           {
            "error_x": {
             "color": "#2a3f5f"
            },
            "error_y": {
             "color": "#2a3f5f"
            },
            "marker": {
             "line": {
              "color": "#E5ECF6",
              "width": 0.5
             },
             "pattern": {
              "fillmode": "overlay",
              "size": 10,
              "solidity": 0.2
             }
            },
            "type": "bar"
           }
          ],
          "barpolar": [
           {
            "marker": {
             "line": {
              "color": "#E5ECF6",
              "width": 0.5
             },
             "pattern": {
              "fillmode": "overlay",
              "size": 10,
              "solidity": 0.2
             }
            },
            "type": "barpolar"
           }
          ],
          "carpet": [
           {
            "aaxis": {
             "endlinecolor": "#2a3f5f",
             "gridcolor": "white",
             "linecolor": "white",
             "minorgridcolor": "white",
             "startlinecolor": "#2a3f5f"
            },
            "baxis": {
             "endlinecolor": "#2a3f5f",
             "gridcolor": "white",
             "linecolor": "white",
             "minorgridcolor": "white",
             "startlinecolor": "#2a3f5f"
            },
            "type": "carpet"
           }
          ],
          "choropleth": [
           {
            "colorbar": {
             "outlinewidth": 0,
             "ticks": ""
            },
            "type": "choropleth"
           }
          ],
          "contour": [
           {
            "colorbar": {
             "outlinewidth": 0,
             "ticks": ""
            },
            "colorscale": [
             [
              0,
              "#0d0887"
             ],
             [
              0.1111111111111111,
              "#46039f"
             ],
             [
              0.2222222222222222,
              "#7201a8"
             ],
             [
              0.3333333333333333,
              "#9c179e"
             ],
             [
              0.4444444444444444,
              "#bd3786"
             ],
             [
              0.5555555555555556,
              "#d8576b"
             ],
             [
              0.6666666666666666,
              "#ed7953"
             ],
             [
              0.7777777777777778,
              "#fb9f3a"
             ],
             [
              0.8888888888888888,
              "#fdca26"
             ],
             [
              1,
              "#f0f921"
             ]
            ],
            "type": "contour"
           }
          ],
          "contourcarpet": [
           {
            "colorbar": {
             "outlinewidth": 0,
             "ticks": ""
            },
            "type": "contourcarpet"
           }
          ],
          "heatmap": [
           {
            "colorbar": {
             "outlinewidth": 0,
             "ticks": ""
            },
            "colorscale": [
             [
              0,
              "#0d0887"
             ],
             [
              0.1111111111111111,
              "#46039f"
             ],
             [
              0.2222222222222222,
              "#7201a8"
             ],
             [
              0.3333333333333333,
              "#9c179e"
             ],
             [
              0.4444444444444444,
              "#bd3786"
             ],
             [
              0.5555555555555556,
              "#d8576b"
             ],
             [
              0.6666666666666666,
              "#ed7953"
             ],
             [
              0.7777777777777778,
              "#fb9f3a"
             ],
             [
              0.8888888888888888,
              "#fdca26"
             ],
             [
              1,
              "#f0f921"
             ]
            ],
            "type": "heatmap"
           }
          ],
          "heatmapgl": [
           {
            "colorbar": {
             "outlinewidth": 0,
             "ticks": ""
            },
            "colorscale": [
             [
              0,
              "#0d0887"
             ],
             [
              0.1111111111111111,
              "#46039f"
             ],
             [
              0.2222222222222222,
              "#7201a8"
             ],
             [
              0.3333333333333333,
              "#9c179e"
             ],
             [
              0.4444444444444444,
              "#bd3786"
             ],
             [
              0.5555555555555556,
              "#d8576b"
             ],
             [
              0.6666666666666666,
              "#ed7953"
             ],
             [
              0.7777777777777778,
              "#fb9f3a"
             ],
             [
              0.8888888888888888,
              "#fdca26"
             ],
             [
              1,
              "#f0f921"
             ]
            ],
            "type": "heatmapgl"
           }
          ],
          "histogram": [
           {
            "marker": {
             "pattern": {
              "fillmode": "overlay",
              "size": 10,
              "solidity": 0.2
             }
            },
            "type": "histogram"
           }
          ],
          "histogram2d": [
           {
            "colorbar": {
             "outlinewidth": 0,
             "ticks": ""
            },
            "colorscale": [
             [
              0,
              "#0d0887"
             ],
             [
              0.1111111111111111,
              "#46039f"
             ],
             [
              0.2222222222222222,
              "#7201a8"
             ],
             [
              0.3333333333333333,
              "#9c179e"
             ],
             [
              0.4444444444444444,
              "#bd3786"
             ],
             [
              0.5555555555555556,
              "#d8576b"
             ],
             [
              0.6666666666666666,
              "#ed7953"
             ],
             [
              0.7777777777777778,
              "#fb9f3a"
             ],
             [
              0.8888888888888888,
              "#fdca26"
             ],
             [
              1,
              "#f0f921"
             ]
            ],
            "type": "histogram2d"
           }
          ],
          "histogram2dcontour": [
           {
            "colorbar": {
             "outlinewidth": 0,
             "ticks": ""
            },
            "colorscale": [
             [
              0,
              "#0d0887"
             ],
             [
              0.1111111111111111,
              "#46039f"
             ],
             [
              0.2222222222222222,
              "#7201a8"
             ],
             [
              0.3333333333333333,
              "#9c179e"
             ],
             [
              0.4444444444444444,
              "#bd3786"
             ],
             [
              0.5555555555555556,
              "#d8576b"
             ],
             [
              0.6666666666666666,
              "#ed7953"
             ],
             [
              0.7777777777777778,
              "#fb9f3a"
             ],
             [
              0.8888888888888888,
              "#fdca26"
             ],
             [
              1,
              "#f0f921"
             ]
            ],
            "type": "histogram2dcontour"
           }
          ],
          "mesh3d": [
           {
            "colorbar": {
             "outlinewidth": 0,
             "ticks": ""
            },
            "type": "mesh3d"
           }
          ],
          "parcoords": [
           {
            "line": {
             "colorbar": {
              "outlinewidth": 0,
              "ticks": ""
             }
            },
            "type": "parcoords"
           }
          ],
          "pie": [
           {
            "automargin": true,
            "type": "pie"
           }
          ],
          "scatter": [
           {
            "fillpattern": {
             "fillmode": "overlay",
             "size": 10,
             "solidity": 0.2
            },
            "type": "scatter"
           }
          ],
          "scatter3d": [
           {
            "line": {
             "colorbar": {
              "outlinewidth": 0,
              "ticks": ""
             }
            },
            "marker": {
             "colorbar": {
              "outlinewidth": 0,
              "ticks": ""
             }
            },
            "type": "scatter3d"
           }
          ],
          "scattercarpet": [
           {
            "marker": {
             "colorbar": {
              "outlinewidth": 0,
              "ticks": ""
             }
            },
            "type": "scattercarpet"
           }
          ],
          "scattergeo": [
           {
            "marker": {
             "colorbar": {
              "outlinewidth": 0,
              "ticks": ""
             }
            },
            "type": "scattergeo"
           }
          ],
          "scattergl": [
           {
            "marker": {
             "colorbar": {
              "outlinewidth": 0,
              "ticks": ""
             }
            },
            "type": "scattergl"
           }
          ],
          "scattermapbox": [
           {
            "marker": {
             "colorbar": {
              "outlinewidth": 0,
              "ticks": ""
             }
            },
            "type": "scattermapbox"
           }
          ],
          "scatterpolar": [
           {
            "marker": {
             "colorbar": {
              "outlinewidth": 0,
              "ticks": ""
             }
            },
            "type": "scatterpolar"
           }
          ],
          "scatterpolargl": [
           {
            "marker": {
             "colorbar": {
              "outlinewidth": 0,
              "ticks": ""
             }
            },
            "type": "scatterpolargl"
           }
          ],
          "scatterternary": [
           {
            "marker": {
             "colorbar": {
              "outlinewidth": 0,
              "ticks": ""
             }
            },
            "type": "scatterternary"
           }
          ],
          "surface": [
           {
            "colorbar": {
             "outlinewidth": 0,
             "ticks": ""
            },
            "colorscale": [
             [
              0,
              "#0d0887"
             ],
             [
              0.1111111111111111,
              "#46039f"
             ],
             [
              0.2222222222222222,
              "#7201a8"
             ],
             [
              0.3333333333333333,
              "#9c179e"
             ],
             [
              0.4444444444444444,
              "#bd3786"
             ],
             [
              0.5555555555555556,
              "#d8576b"
             ],
             [
              0.6666666666666666,
              "#ed7953"
             ],
             [
              0.7777777777777778,
              "#fb9f3a"
             ],
             [
              0.8888888888888888,
              "#fdca26"
             ],
             [
              1,
              "#f0f921"
             ]
            ],
            "type": "surface"
           }
          ],
          "table": [
           {
            "cells": {
             "fill": {
              "color": "#EBF0F8"
             },
             "line": {
              "color": "white"
             }
            },
            "header": {
             "fill": {
              "color": "#C8D4E3"
             },
             "line": {
              "color": "white"
             }
            },
            "type": "table"
           }
          ]
         },
         "layout": {
          "annotationdefaults": {
           "arrowcolor": "#2a3f5f",
           "arrowhead": 0,
           "arrowwidth": 1
          },
          "autotypenumbers": "strict",
          "coloraxis": {
           "colorbar": {
            "outlinewidth": 0,
            "ticks": ""
           }
          },
          "colorscale": {
           "diverging": [
            [
             0,
             "#8e0152"
            ],
            [
             0.1,
             "#c51b7d"
            ],
            [
             0.2,
             "#de77ae"
            ],
            [
             0.3,
             "#f1b6da"
            ],
            [
             0.4,
             "#fde0ef"
            ],
            [
             0.5,
             "#f7f7f7"
            ],
            [
             0.6,
             "#e6f5d0"
            ],
            [
             0.7,
             "#b8e186"
            ],
            [
             0.8,
             "#7fbc41"
            ],
            [
             0.9,
             "#4d9221"
            ],
            [
             1,
             "#276419"
            ]
           ],
           "sequential": [
            [
             0,
             "#0d0887"
            ],
            [
             0.1111111111111111,
             "#46039f"
            ],
            [
             0.2222222222222222,
             "#7201a8"
            ],
            [
             0.3333333333333333,
             "#9c179e"
            ],
            [
             0.4444444444444444,
             "#bd3786"
            ],
            [
             0.5555555555555556,
             "#d8576b"
            ],
            [
             0.6666666666666666,
             "#ed7953"
            ],
            [
             0.7777777777777778,
             "#fb9f3a"
            ],
            [
             0.8888888888888888,
             "#fdca26"
            ],
            [
             1,
             "#f0f921"
            ]
           ],
           "sequentialminus": [
            [
             0,
             "#0d0887"
            ],
            [
             0.1111111111111111,
             "#46039f"
            ],
            [
             0.2222222222222222,
             "#7201a8"
            ],
            [
             0.3333333333333333,
             "#9c179e"
            ],
            [
             0.4444444444444444,
             "#bd3786"
            ],
            [
             0.5555555555555556,
             "#d8576b"
            ],
            [
             0.6666666666666666,
             "#ed7953"
            ],
            [
             0.7777777777777778,
             "#fb9f3a"
            ],
            [
             0.8888888888888888,
             "#fdca26"
            ],
            [
             1,
             "#f0f921"
            ]
           ]
          },
          "colorway": [
           "#636efa",
           "#EF553B",
           "#00cc96",
           "#ab63fa",
           "#FFA15A",
           "#19d3f3",
           "#FF6692",
           "#B6E880",
           "#FF97FF",
           "#FECB52"
          ],
          "font": {
           "color": "#2a3f5f"
          },
          "geo": {
           "bgcolor": "white",
           "lakecolor": "white",
           "landcolor": "#E5ECF6",
           "showlakes": true,
           "showland": true,
           "subunitcolor": "white"
          },
          "hoverlabel": {
           "align": "left"
          },
          "hovermode": "closest",
          "mapbox": {
           "style": "light"
          },
          "paper_bgcolor": "white",
          "plot_bgcolor": "#E5ECF6",
          "polar": {
           "angularaxis": {
            "gridcolor": "white",
            "linecolor": "white",
            "ticks": ""
           },
           "bgcolor": "#E5ECF6",
           "radialaxis": {
            "gridcolor": "white",
            "linecolor": "white",
            "ticks": ""
           }
          },
          "scene": {
           "xaxis": {
            "backgroundcolor": "#E5ECF6",
            "gridcolor": "white",
            "gridwidth": 2,
            "linecolor": "white",
            "showbackground": true,
            "ticks": "",
            "zerolinecolor": "white"
           },
           "yaxis": {
            "backgroundcolor": "#E5ECF6",
            "gridcolor": "white",
            "gridwidth": 2,
            "linecolor": "white",
            "showbackground": true,
            "ticks": "",
            "zerolinecolor": "white"
           },
           "zaxis": {
            "backgroundcolor": "#E5ECF6",
            "gridcolor": "white",
            "gridwidth": 2,
            "linecolor": "white",
            "showbackground": true,
            "ticks": "",
            "zerolinecolor": "white"
           }
          },
          "shapedefaults": {
           "line": {
            "color": "#2a3f5f"
           }
          },
          "ternary": {
           "aaxis": {
            "gridcolor": "white",
            "linecolor": "white",
            "ticks": ""
           },
           "baxis": {
            "gridcolor": "white",
            "linecolor": "white",
            "ticks": ""
           },
           "bgcolor": "#E5ECF6",
           "caxis": {
            "gridcolor": "white",
            "linecolor": "white",
            "ticks": ""
           }
          },
          "title": {
           "x": 0.05
          },
          "xaxis": {
           "automargin": true,
           "gridcolor": "white",
           "linecolor": "white",
           "ticks": "",
           "title": {
            "standoff": 15
           },
           "zerolinecolor": "white",
           "zerolinewidth": 2
          },
          "yaxis": {
           "automargin": true,
           "gridcolor": "white",
           "linecolor": "white",
           "ticks": "",
           "title": {
            "standoff": 15
           },
           "zerolinecolor": "white",
           "zerolinewidth": 2
          }
         }
        },
        "xaxis": {
         "title": {
          "text": "Number"
         }
        },
        "yaxis": {
         "range": [
          0,
          90
         ],
         "title": {
          "text": "Age"
         }
        }
       }
      },
      "text/html": [
       "<div>                            <div id=\"953729d2-caee-418f-be81-ea6914e8d895\" class=\"plotly-graph-div\" style=\"height:525px; width:100%;\"></div>            <script type=\"text/javascript\">                require([\"plotly\"], function(Plotly) {                    window.PLOTLYENV=window.PLOTLYENV || {};                                    if (document.getElementById(\"953729d2-caee-418f-be81-ea6914e8d895\")) {                    Plotly.newPlot(                        \"953729d2-caee-418f-be81-ea6914e8d895\",                        [{\"hoverinfo\":\"skip\",\"marker\":{\"color\":\"purple\"},\"name\":\"Men\",\"orientation\":\"h\",\"x\":[1873332.0,1880087.0,1942201.0,2113654.0,2239826.0,2247557.0,2098935.0,1903638.0,1678428.0,1485492.0,1426700.0,1298498.0,1033280.0,1917962.0],\"y\":[0,5,10,15,20,25,30,35,40,45,50,55,60,65],\"type\":\"bar\"},{\"hoverinfo\":\"skip\",\"marker\":{\"color\":\"pink\"},\"name\":\"Women\",\"orientation\":\"h\",\"x\":[-1873332.0,-1880087.0,-1942201.0,-2113654.0,-2239826.0,-2247557.0,-2098935.0,-1903638.0,-1678428.0,-1485492.0,-1426700.0,-1298498.0,-1033280.0,-1917962.0],\"y\":[0,5,10,15,20,25,30,35,40,45,50,55,60,65],\"type\":\"bar\"}],                        {\"barmode\":\"overlay\",\"template\":{\"data\":{\"barpolar\":[{\"marker\":{\"line\":{\"color\":\"#E5ECF6\",\"width\":0.5},\"pattern\":{\"fillmode\":\"overlay\",\"size\":10,\"solidity\":0.2}},\"type\":\"barpolar\"}],\"bar\":[{\"error_x\":{\"color\":\"#2a3f5f\"},\"error_y\":{\"color\":\"#2a3f5f\"},\"marker\":{\"line\":{\"color\":\"#E5ECF6\",\"width\":0.5},\"pattern\":{\"fillmode\":\"overlay\",\"size\":10,\"solidity\":0.2}},\"type\":\"bar\"}],\"carpet\":[{\"aaxis\":{\"endlinecolor\":\"#2a3f5f\",\"gridcolor\":\"white\",\"linecolor\":\"white\",\"minorgridcolor\":\"white\",\"startlinecolor\":\"#2a3f5f\"},\"baxis\":{\"endlinecolor\":\"#2a3f5f\",\"gridcolor\":\"white\",\"linecolor\":\"white\",\"minorgridcolor\":\"white\",\"startlinecolor\":\"#2a3f5f\"},\"type\":\"carpet\"}],\"choropleth\":[{\"colorbar\":{\"outlinewidth\":0,\"ticks\":\"\"},\"type\":\"choropleth\"}],\"contourcarpet\":[{\"colorbar\":{\"outlinewidth\":0,\"ticks\":\"\"},\"type\":\"contourcarpet\"}],\"contour\":[{\"colorbar\":{\"outlinewidth\":0,\"ticks\":\"\"},\"colorscale\":[[0.0,\"#0d0887\"],[0.1111111111111111,\"#46039f\"],[0.2222222222222222,\"#7201a8\"],[0.3333333333333333,\"#9c179e\"],[0.4444444444444444,\"#bd3786\"],[0.5555555555555556,\"#d8576b\"],[0.6666666666666666,\"#ed7953\"],[0.7777777777777778,\"#fb9f3a\"],[0.8888888888888888,\"#fdca26\"],[1.0,\"#f0f921\"]],\"type\":\"contour\"}],\"heatmapgl\":[{\"colorbar\":{\"outlinewidth\":0,\"ticks\":\"\"},\"colorscale\":[[0.0,\"#0d0887\"],[0.1111111111111111,\"#46039f\"],[0.2222222222222222,\"#7201a8\"],[0.3333333333333333,\"#9c179e\"],[0.4444444444444444,\"#bd3786\"],[0.5555555555555556,\"#d8576b\"],[0.6666666666666666,\"#ed7953\"],[0.7777777777777778,\"#fb9f3a\"],[0.8888888888888888,\"#fdca26\"],[1.0,\"#f0f921\"]],\"type\":\"heatmapgl\"}],\"heatmap\":[{\"colorbar\":{\"outlinewidth\":0,\"ticks\":\"\"},\"colorscale\":[[0.0,\"#0d0887\"],[0.1111111111111111,\"#46039f\"],[0.2222222222222222,\"#7201a8\"],[0.3333333333333333,\"#9c179e\"],[0.4444444444444444,\"#bd3786\"],[0.5555555555555556,\"#d8576b\"],[0.6666666666666666,\"#ed7953\"],[0.7777777777777778,\"#fb9f3a\"],[0.8888888888888888,\"#fdca26\"],[1.0,\"#f0f921\"]],\"type\":\"heatmap\"}],\"histogram2dcontour\":[{\"colorbar\":{\"outlinewidth\":0,\"ticks\":\"\"},\"colorscale\":[[0.0,\"#0d0887\"],[0.1111111111111111,\"#46039f\"],[0.2222222222222222,\"#7201a8\"],[0.3333333333333333,\"#9c179e\"],[0.4444444444444444,\"#bd3786\"],[0.5555555555555556,\"#d8576b\"],[0.6666666666666666,\"#ed7953\"],[0.7777777777777778,\"#fb9f3a\"],[0.8888888888888888,\"#fdca26\"],[1.0,\"#f0f921\"]],\"type\":\"histogram2dcontour\"}],\"histogram2d\":[{\"colorbar\":{\"outlinewidth\":0,\"ticks\":\"\"},\"colorscale\":[[0.0,\"#0d0887\"],[0.1111111111111111,\"#46039f\"],[0.2222222222222222,\"#7201a8\"],[0.3333333333333333,\"#9c179e\"],[0.4444444444444444,\"#bd3786\"],[0.5555555555555556,\"#d8576b\"],[0.6666666666666666,\"#ed7953\"],[0.7777777777777778,\"#fb9f3a\"],[0.8888888888888888,\"#fdca26\"],[1.0,\"#f0f921\"]],\"type\":\"histogram2d\"}],\"histogram\":[{\"marker\":{\"pattern\":{\"fillmode\":\"overlay\",\"size\":10,\"solidity\":0.2}},\"type\":\"histogram\"}],\"mesh3d\":[{\"colorbar\":{\"outlinewidth\":0,\"ticks\":\"\"},\"type\":\"mesh3d\"}],\"parcoords\":[{\"line\":{\"colorbar\":{\"outlinewidth\":0,\"ticks\":\"\"}},\"type\":\"parcoords\"}],\"pie\":[{\"automargin\":true,\"type\":\"pie\"}],\"scatter3d\":[{\"line\":{\"colorbar\":{\"outlinewidth\":0,\"ticks\":\"\"}},\"marker\":{\"colorbar\":{\"outlinewidth\":0,\"ticks\":\"\"}},\"type\":\"scatter3d\"}],\"scattercarpet\":[{\"marker\":{\"colorbar\":{\"outlinewidth\":0,\"ticks\":\"\"}},\"type\":\"scattercarpet\"}],\"scattergeo\":[{\"marker\":{\"colorbar\":{\"outlinewidth\":0,\"ticks\":\"\"}},\"type\":\"scattergeo\"}],\"scattergl\":[{\"marker\":{\"colorbar\":{\"outlinewidth\":0,\"ticks\":\"\"}},\"type\":\"scattergl\"}],\"scattermapbox\":[{\"marker\":{\"colorbar\":{\"outlinewidth\":0,\"ticks\":\"\"}},\"type\":\"scattermapbox\"}],\"scatterpolargl\":[{\"marker\":{\"colorbar\":{\"outlinewidth\":0,\"ticks\":\"\"}},\"type\":\"scatterpolargl\"}],\"scatterpolar\":[{\"marker\":{\"colorbar\":{\"outlinewidth\":0,\"ticks\":\"\"}},\"type\":\"scatterpolar\"}],\"scatter\":[{\"fillpattern\":{\"fillmode\":\"overlay\",\"size\":10,\"solidity\":0.2},\"type\":\"scatter\"}],\"scatterternary\":[{\"marker\":{\"colorbar\":{\"outlinewidth\":0,\"ticks\":\"\"}},\"type\":\"scatterternary\"}],\"surface\":[{\"colorbar\":{\"outlinewidth\":0,\"ticks\":\"\"},\"colorscale\":[[0.0,\"#0d0887\"],[0.1111111111111111,\"#46039f\"],[0.2222222222222222,\"#7201a8\"],[0.3333333333333333,\"#9c179e\"],[0.4444444444444444,\"#bd3786\"],[0.5555555555555556,\"#d8576b\"],[0.6666666666666666,\"#ed7953\"],[0.7777777777777778,\"#fb9f3a\"],[0.8888888888888888,\"#fdca26\"],[1.0,\"#f0f921\"]],\"type\":\"surface\"}],\"table\":[{\"cells\":{\"fill\":{\"color\":\"#EBF0F8\"},\"line\":{\"color\":\"white\"}},\"header\":{\"fill\":{\"color\":\"#C8D4E3\"},\"line\":{\"color\":\"white\"}},\"type\":\"table\"}]},\"layout\":{\"annotationdefaults\":{\"arrowcolor\":\"#2a3f5f\",\"arrowhead\":0,\"arrowwidth\":1},\"autotypenumbers\":\"strict\",\"coloraxis\":{\"colorbar\":{\"outlinewidth\":0,\"ticks\":\"\"}},\"colorscale\":{\"diverging\":[[0,\"#8e0152\"],[0.1,\"#c51b7d\"],[0.2,\"#de77ae\"],[0.3,\"#f1b6da\"],[0.4,\"#fde0ef\"],[0.5,\"#f7f7f7\"],[0.6,\"#e6f5d0\"],[0.7,\"#b8e186\"],[0.8,\"#7fbc41\"],[0.9,\"#4d9221\"],[1,\"#276419\"]],\"sequential\":[[0.0,\"#0d0887\"],[0.1111111111111111,\"#46039f\"],[0.2222222222222222,\"#7201a8\"],[0.3333333333333333,\"#9c179e\"],[0.4444444444444444,\"#bd3786\"],[0.5555555555555556,\"#d8576b\"],[0.6666666666666666,\"#ed7953\"],[0.7777777777777778,\"#fb9f3a\"],[0.8888888888888888,\"#fdca26\"],[1.0,\"#f0f921\"]],\"sequentialminus\":[[0.0,\"#0d0887\"],[0.1111111111111111,\"#46039f\"],[0.2222222222222222,\"#7201a8\"],[0.3333333333333333,\"#9c179e\"],[0.4444444444444444,\"#bd3786\"],[0.5555555555555556,\"#d8576b\"],[0.6666666666666666,\"#ed7953\"],[0.7777777777777778,\"#fb9f3a\"],[0.8888888888888888,\"#fdca26\"],[1.0,\"#f0f921\"]]},\"colorway\":[\"#636efa\",\"#EF553B\",\"#00cc96\",\"#ab63fa\",\"#FFA15A\",\"#19d3f3\",\"#FF6692\",\"#B6E880\",\"#FF97FF\",\"#FECB52\"],\"font\":{\"color\":\"#2a3f5f\"},\"geo\":{\"bgcolor\":\"white\",\"lakecolor\":\"white\",\"landcolor\":\"#E5ECF6\",\"showlakes\":true,\"showland\":true,\"subunitcolor\":\"white\"},\"hoverlabel\":{\"align\":\"left\"},\"hovermode\":\"closest\",\"mapbox\":{\"style\":\"light\"},\"paper_bgcolor\":\"white\",\"plot_bgcolor\":\"#E5ECF6\",\"polar\":{\"angularaxis\":{\"gridcolor\":\"white\",\"linecolor\":\"white\",\"ticks\":\"\"},\"bgcolor\":\"#E5ECF6\",\"radialaxis\":{\"gridcolor\":\"white\",\"linecolor\":\"white\",\"ticks\":\"\"}},\"scene\":{\"xaxis\":{\"backgroundcolor\":\"#E5ECF6\",\"gridcolor\":\"white\",\"gridwidth\":2,\"linecolor\":\"white\",\"showbackground\":true,\"ticks\":\"\",\"zerolinecolor\":\"white\"},\"yaxis\":{\"backgroundcolor\":\"#E5ECF6\",\"gridcolor\":\"white\",\"gridwidth\":2,\"linecolor\":\"white\",\"showbackground\":true,\"ticks\":\"\",\"zerolinecolor\":\"white\"},\"zaxis\":{\"backgroundcolor\":\"#E5ECF6\",\"gridcolor\":\"white\",\"gridwidth\":2,\"linecolor\":\"white\",\"showbackground\":true,\"ticks\":\"\",\"zerolinecolor\":\"white\"}},\"shapedefaults\":{\"line\":{\"color\":\"#2a3f5f\"}},\"ternary\":{\"aaxis\":{\"gridcolor\":\"white\",\"linecolor\":\"white\",\"ticks\":\"\"},\"baxis\":{\"gridcolor\":\"white\",\"linecolor\":\"white\",\"ticks\":\"\"},\"bgcolor\":\"#E5ECF6\",\"caxis\":{\"gridcolor\":\"white\",\"linecolor\":\"white\",\"ticks\":\"\"}},\"title\":{\"x\":0.05},\"xaxis\":{\"automargin\":true,\"gridcolor\":\"white\",\"linecolor\":\"white\",\"ticks\":\"\",\"title\":{\"standoff\":15},\"zerolinecolor\":\"white\",\"zerolinewidth\":2},\"yaxis\":{\"automargin\":true,\"gridcolor\":\"white\",\"linecolor\":\"white\",\"ticks\":\"\",\"title\":{\"standoff\":15},\"zerolinecolor\":\"white\",\"zerolinewidth\":2}}},\"xaxis\":{\"title\":{\"text\":\"Number\"}},\"yaxis\":{\"range\":[0,90],\"title\":{\"text\":\"Age\"}}},                        {\"responsive\": true}                    ).then(function(){\n",
       "                            \n",
       "var gd = document.getElementById('953729d2-caee-418f-be81-ea6914e8d895');\n",
       "var x = new MutationObserver(function (mutations, observer) {{\n",
       "        var display = window.getComputedStyle(gd).display;\n",
       "        if (!display || display === 'none') {{\n",
       "            console.log([gd, 'removed!']);\n",
       "            Plotly.purge(gd);\n",
       "            observer.disconnect();\n",
       "        }}\n",
       "}});\n",
       "\n",
       "// Listen for the removal of the full notebook cells\n",
       "var notebookContainer = gd.closest('#notebook-container');\n",
       "if (notebookContainer) {{\n",
       "    x.observe(notebookContainer, {childList: true});\n",
       "}}\n",
       "\n",
       "// Listen for the clearing of the current output cell\n",
       "var outputEl = gd.closest('.output');\n",
       "if (outputEl) {{\n",
       "    x.observe(outputEl, {childList: true});\n",
       "}}\n",
       "\n",
       "                        })                };                });            </script>        </div>"
      ]
     },
     "metadata": {},
     "output_type": "display_data"
    }
   ],
   "source": [
    "year = 2020\n",
    "place = 'COL'\n",
    "\n",
    "country_df = population_dataframe(place)\n",
    "\n",
    "plot_df = eg[eg.index == (year, place)]\n",
    "\n",
    "plot_df = plot_df.drop(columns=plot_df.filter(regex=\"Totals\").columns) # Removes the Total Columns\n",
    "\n",
    "valid_ranges = get_valid_ranges()\n",
    "\n",
    "valid_ranges_int = [(int(r[0]), r[1]) for r in valid_ranges]\n",
    "valid_ranges_int\n",
    "\n",
    "desired_ranges = []\n",
    "\n",
    "prior = -1\n",
    "\n",
    "stop = False\n",
    "\n",
    "for r in valid_ranges_int:\n",
    "    if not stop:\n",
    "        if r[0] != prior and r[0] != 65: # We don't want duplicates\n",
    "            desired_ranges += [r]\n",
    "            prior = r[0]\n",
    "        if r[1] == 'above': # We don't want to continue adding after we get an above\n",
    "            stop = True\n",
    "desired_ranges += [(65, 'above')]\n",
    "        \n",
    "vals = plot_df.filter(regex=\"Male\").values[0]\n",
    "\n",
    "range_dict = dict(zip(valid_ranges_int, vals))\n",
    "\n",
    "x_m = [range_dict[r] for r in desired_ranges] \n",
    "y_m = [int(r[0]) for r in desired_ranges]\n",
    "\n",
    "vals = plot_df.filter(regex=\"Male\").values[0]\n",
    "\n",
    "range_dict = dict(zip(valid_ranges_int, vals))\n",
    "\n",
    "x_f = [range_dict[r] for r in desired_ranges] \n",
    "y_f = [int(r[0]) for r in desired_ranges]\n",
    "\n",
    "x_f = [-x for x in x_f]\n",
    "\n",
    "py.init_notebook_mode(connected=True)\n",
    "\n",
    "layout = go.Layout(barmode='overlay',\n",
    "                   yaxis=go.layout.YAxis(range=[0, 90], title='Age'),\n",
    "                   xaxis=go.layout.XAxis(title='Number'))\n",
    "\n",
    "bins = [go.Bar(x = x_m,\n",
    "               y = y_m,\n",
    "               orientation='h',\n",
    "               name='Men',\n",
    "               marker=dict(color='purple'),\n",
    "               hoverinfo='skip'\n",
    "               ),\n",
    "\n",
    "        go.Bar(x = x_f,\n",
    "               y= y_f,\n",
    "               orientation='h',\n",
    "               name='Women',\n",
    "               marker=dict(color='pink'),\n",
    "               hoverinfo='skip',\n",
    "               )\n",
    "        ]\n",
    "\n",
    "\n",
    "\n",
    "py.iplot(dict(data=bins, layout=layout))"
   ]
  },
  {
   "cell_type": "code",
   "execution_count": 44,
   "id": "d3d94724",
   "metadata": {},
   "outputs": [],
   "source": [
    "valid_ranges = get_valid_ranges()"
   ]
  },
  {
   "cell_type": "code",
   "execution_count": 125,
   "id": "b3da9ecb",
   "metadata": {},
   "outputs": [
    {
     "data": {
      "text/plain": [
       "[]"
      ]
     },
     "execution_count": 125,
     "metadata": {},
     "output_type": "execute_result"
    }
   ],
   "source": []
  },
  {
   "cell_type": "code",
   "execution_count": 81,
   "id": "c9ddd6b5",
   "metadata": {},
   "outputs": [
    {
     "data": {
      "text/plain": [
       "['00',\n",
       " '0',\n",
       " '05',\n",
       " '10',\n",
       " '15',\n",
       " '15',\n",
       " '20',\n",
       " '25',\n",
       " '30',\n",
       " '35',\n",
       " '40',\n",
       " '45',\n",
       " '50',\n",
       " '55',\n",
       " '60',\n",
       " '65',\n",
       " '65',\n",
       " '70',\n",
       " '75',\n",
       " '80']"
      ]
     },
     "execution_count": 81,
     "metadata": {},
     "output_type": "execute_result"
    }
   ],
   "source": [
    "plot_df.columns\n",
    "[r[0] for r in valid_ranges]"
   ]
  },
  {
   "cell_type": "code",
   "execution_count": 118,
   "id": "f066b6af",
   "metadata": {},
   "outputs": [],
   "source": [
    "valid_ranges_int = [(int(r[0]), r[1]) for r in valid_ranges]\n",
    "valid_ranges_int\n",
    "\n",
    "desired_ranges = []\n",
    "\n",
    "prior = -1\n",
    "\n",
    "stop = False\n",
    "\n",
    "for r in valid_ranges_int:\n",
    "    if not stop:\n",
    "        if r[0] != prior and r[0] != 65: # We don't want duplicates\n",
    "            desired_ranges += [r]\n",
    "            prior = r[0]\n",
    "        if r[1] == 'above': # We don't want to continue adding after we get an above\n",
    "            stop = True\n",
    "desired_ranges += [(65, 'above')]\n",
    "        \n",
    "vals = plot_df.filter(regex=\"Male\").values[0]\n",
    "\n",
    "range_dict = dict(zip(valid_ranges_int, vals))\n",
    "\n",
    "x = [range_dict[r] for r in desired_ranges] \n",
    "y = [int(r[0]) for r in desired_ranges]"
   ]
  },
  {
   "cell_type": "code",
   "execution_count": 119,
   "id": "520b4fbb",
   "metadata": {},
   "outputs": [
    {
     "data": {
      "text/plain": [
       "[0, 5, 10, 15, 20, 25, 30, 35, 40, 45, 50, 55, 60, 65]"
      ]
     },
     "execution_count": 119,
     "metadata": {},
     "output_type": "execute_result"
    }
   ],
   "source": [
    "y"
   ]
  },
  {
   "cell_type": "code",
   "execution_count": null,
   "id": "06dbb53c",
   "metadata": {},
   "outputs": [],
   "source": []
  }
 ],
 "metadata": {
  "kernelspec": {
   "display_name": "Python 3 (ipykernel)",
   "language": "python",
   "name": "python3"
  },
  "language_info": {
   "codemirror_mode": {
    "name": "ipython",
    "version": 3
   },
   "file_extension": ".py",
   "mimetype": "text/x-python",
   "name": "python",
   "nbconvert_exporter": "python",
   "pygments_lexer": "ipython3",
   "version": "3.11.5"
  }
 },
 "nbformat": 4,
 "nbformat_minor": 5
}
