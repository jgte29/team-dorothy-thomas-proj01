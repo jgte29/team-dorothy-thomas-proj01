{
 "cells": [
  {
   "cell_type": "markdown",
   "id": "f1a06e52",
   "metadata": {},
   "source": [
    "# Our Country: Colombia"
   ]
  },
  {
   "cell_type": "code",
   "execution_count": 29,
   "id": "f6def48e",
   "metadata": {},
   "outputs": [],
   "source": [
    "### Uncomment this to download\n",
    "# !pip install wbdata\n",
    "import pandas\n",
    "import wbdata\n",
    "import re"
   ]
  },
  {
   "cell_type": "markdown",
   "id": "e0184923",
   "metadata": {},
   "source": [
    "# Population Statistics"
   ]
  },
  {
   "cell_type": "code",
   "execution_count": 376,
   "id": "c97eab2c",
   "metadata": {},
   "outputs": [],
   "source": [
    "def get_indicators_dict(src):\n",
    "    indicators = wbdata.get_indicator(source = src)\n",
    "    \n",
    "    indicator_dict = {}\n",
    "    for indicator in indicators:\n",
    "        ID = indicator['id']\n",
    "        name = indicator['name']\n",
    "        indicator_dict[name] = ID\n",
    "        \n",
    "    return indicator_dict\n",
    "    \n",
    "\n",
    "def population(year, sex, age_range, place, whole_df = False, mute=True):\n",
    "    src = 40\n",
    "    \n",
    "    indicator_dict = get_indicators_dict(src)\n",
    "    \n",
    "    try:\n",
    "        try: # For queries like 'Population ages 10-14, female'\n",
    "            label = f'Population ages {age_range[0]}-{age_range[1]}, {sex.lower()}'\n",
    "            variable_labels = {(indicator_dict[label]): label}\n",
    "            \n",
    "        except: # For queries like 'Population ages 65 and above, female'\n",
    "            label = f'Population ages {age_range[0]} and {age_range[1]}, {sex.lower()}'\n",
    "            variable_labels = {(indicator_dict[label]): label}            \n",
    "\n",
    "        try:\n",
    "            df = wbdata.get_dataframe(variable_labels, country=place)\n",
    "            df.index = df.index.astype(int)\n",
    "            if not whole_df:\n",
    "                return df.loc[year, label]\n",
    "            else: ### Returns the whole df if no year specified\n",
    "                return df\n",
    "        except:\n",
    "            if not mute:\n",
    "                print('Invalid Country: Use find_country() to find valid countries')\n",
    "            return 'Invalid Country'\n",
    "        \n",
    "    except:\n",
    "        valid_queries = get_indicators_dict(40).keys()\n",
    "        valid_queries = [q for q in valid_queries if q.find('Population ages') != -1 & q.find('(% of') == -1]\n",
    "        error_message = f'''\n",
    "Invalid Query:\n",
    "Valid Queries:\n",
    "{valid_queries}\n",
    "        '''\n",
    "        \n",
    "        if not mute:\n",
    "            print(error_message)\n",
    "        return 'Invalid Query'\n",
    "\n",
    "def find_country(country):\n",
    "    print(wbdata.search_countries())"
   ]
  },
  {
   "cell_type": "code",
   "execution_count": 377,
   "id": "f92b68ef",
   "metadata": {},
   "outputs": [
    {
     "data": {
      "text/html": [
       "<div>\n",
       "<style scoped>\n",
       "    .dataframe tbody tr th:only-of-type {\n",
       "        vertical-align: middle;\n",
       "    }\n",
       "\n",
       "    .dataframe tbody tr th {\n",
       "        vertical-align: top;\n",
       "    }\n",
       "\n",
       "    .dataframe thead th {\n",
       "        text-align: right;\n",
       "    }\n",
       "</style>\n",
       "<table border=\"1\" class=\"dataframe\">\n",
       "  <thead>\n",
       "    <tr style=\"text-align: right;\">\n",
       "      <th></th>\n",
       "      <th>Population ages 00-04, male</th>\n",
       "    </tr>\n",
       "    <tr>\n",
       "      <th>date</th>\n",
       "      <th></th>\n",
       "    </tr>\n",
       "  </thead>\n",
       "  <tbody>\n",
       "    <tr>\n",
       "      <th>2022</th>\n",
       "      <td>1863450.0</td>\n",
       "    </tr>\n",
       "    <tr>\n",
       "      <th>2021</th>\n",
       "      <td>1872904.0</td>\n",
       "    </tr>\n",
       "    <tr>\n",
       "      <th>2020</th>\n",
       "      <td>1873332.0</td>\n",
       "    </tr>\n",
       "    <tr>\n",
       "      <th>2019</th>\n",
       "      <td>1868705.0</td>\n",
       "    </tr>\n",
       "    <tr>\n",
       "      <th>2018</th>\n",
       "      <td>1860651.0</td>\n",
       "    </tr>\n",
       "    <tr>\n",
       "      <th>...</th>\n",
       "      <td>...</td>\n",
       "    </tr>\n",
       "    <tr>\n",
       "      <th>1964</th>\n",
       "      <td>1688662.0</td>\n",
       "    </tr>\n",
       "    <tr>\n",
       "      <th>1963</th>\n",
       "      <td>1649980.0</td>\n",
       "    </tr>\n",
       "    <tr>\n",
       "      <th>1962</th>\n",
       "      <td>1607957.0</td>\n",
       "    </tr>\n",
       "    <tr>\n",
       "      <th>1961</th>\n",
       "      <td>1563136.0</td>\n",
       "    </tr>\n",
       "    <tr>\n",
       "      <th>1960</th>\n",
       "      <td>1516654.0</td>\n",
       "    </tr>\n",
       "  </tbody>\n",
       "</table>\n",
       "<p>63 rows × 1 columns</p>\n",
       "</div>"
      ],
      "text/plain": [
       "      Population ages 00-04, male\n",
       "date                             \n",
       "2022                    1863450.0\n",
       "2021                    1872904.0\n",
       "2020                    1873332.0\n",
       "2019                    1868705.0\n",
       "2018                    1860651.0\n",
       "...                           ...\n",
       "1964                    1688662.0\n",
       "1963                    1649980.0\n",
       "1962                    1607957.0\n",
       "1961                    1563136.0\n",
       "1960                    1516654.0\n",
       "\n",
       "[63 rows x 1 columns]"
      ]
     },
     "execution_count": 377,
     "metadata": {},
     "output_type": "execute_result"
    }
   ],
   "source": [
    "eg = population(2020, 'male', ('00','04'), 'COL', whole_df = True)\n",
    "eg"
   ]
  },
  {
   "cell_type": "markdown",
   "id": "fdf4065c",
   "metadata": {},
   "source": [
    "# Unit Tests"
   ]
  },
  {
   "cell_type": "code",
   "execution_count": 318,
   "id": "0e0af643",
   "metadata": {
    "scrolled": true
   },
   "outputs": [],
   "source": [
    "def unit_test(case):\n",
    "    if case:\n",
    "        print('Test Case Passed')\n",
    "        return case\n",
    "    else:\n",
    "        print('Test Case Failed')\n",
    "        return case"
   ]
  },
  {
   "cell_type": "markdown",
   "id": "ab001037",
   "metadata": {},
   "source": [
    "### Test the Value Returns Correct Answers"
   ]
  },
  {
   "cell_type": "code",
   "execution_count": 320,
   "id": "71bd423f",
   "metadata": {},
   "outputs": [
    {
     "name": "stdout",
     "output_type": "stream",
     "text": [
      "Test 1:\n",
      "Test Case Passed\n",
      "\n",
      "Test 2:\n",
      "Test Case Passed\n",
      "\n",
      "Test 3:\n",
      "Test Case Passed\n",
      "\n",
      "Test 4:\n",
      "Test Case Passed\n",
      "\n",
      "Test 5:\n",
      "Test Case Passed\n",
      "\n",
      "Test 6:\n",
      "Test Case Passed\n",
      "\n",
      "Test 7:\n",
      "Test Case Failed\n"
     ]
    }
   ],
   "source": [
    "n = 1\n",
    "\n",
    "### Test the Unit Test Works\n",
    "case = population(2020, 'total', ('15','64'), 'COL') < 0\n",
    "print(f'Test {n}:')\n",
    "unit_test(~(case))\n",
    "n += 1\n",
    "\n",
    "### Basic Functionality\n",
    "case = population(2020, 'total', ('15','64'), 'COL') > 1e6\n",
    "print(f'\\nTest {n}:')\n",
    "unit_test(case)\n",
    "n += 1\n",
    "\n",
    "### Test the year hyperparameter works\n",
    "case = population(2020, 'total', ('15','64'), 'COL') != population(2021, 'total', ('15','64'), 'COL')\n",
    "print(f'\\nTest {n}:')\n",
    "unit_test(case)\n",
    "n += 1\n",
    "\n",
    "### Test the sex hyperparameter works\n",
    "case = population(2020, 'total', ('15','64'), 'COL') > population(2020, 'male', ('15','64'), 'COL')\n",
    "print(f'\\nTest {n}:')\n",
    "unit_test(case)\n",
    "n += 1\n",
    "\n",
    "### Test the place hyperparameter works\n",
    "case = population(2020, 'total', ('15','64'), 'COL') != population(2020, 'total', ('15','64'), 'USA')\n",
    "print(f'\\nTest {n}:')\n",
    "unit_test(case)\n",
    "n += 1\n",
    "\n",
    "### Test the age_range hyperparameter works w/ '-'\n",
    "case = population(2020, 'male', ('15','19'), 'COL') != population(2020, 'male', ('0','14'), 'COL')\n",
    "print(f'\\nTest {n}:')\n",
    "unit_test(case)\n",
    "n += 1\n",
    "\n",
    "### Test the age_range hyperparameter works w/ '-'\n",
    "case = type(population(2020, 'male', ('80','above'), 'COL')) == int\n",
    "print(f'\\nTest {n}:')\n",
    "unit_test(case)\n",
    "n += 1"
   ]
  },
  {
   "cell_type": "markdown",
   "id": "2bb98157",
   "metadata": {},
   "source": [
    "### Test the Error Messages Work"
   ]
  },
  {
   "cell_type": "code",
   "execution_count": 321,
   "id": "f27a123a",
   "metadata": {
    "scrolled": true
   },
   "outputs": [
    {
     "name": "stdout",
     "output_type": "stream",
     "text": [
      "Test 1:\n",
      "Test Case Passed\n",
      "\n",
      "Test 2:\n",
      "Test Case Passed\n"
     ]
    }
   ],
   "source": [
    "n = 1\n",
    "\n",
    "### Test the Invalid Country Message Works\n",
    "case = population(2020, 'total', ('15','64'), 'SPAM', mute=True) == 'Invalid Country'\n",
    "print(f'Test {n}:')\n",
    "unit_test(~(case))\n",
    "n += 1\n",
    "\n",
    "### Test the Invalid Query Message Works\n",
    "case = population(2020, 'total', ('15','SPAM'), 'COL', mute=True) == 'Invalid Query'\n",
    "print(f'\\nTest {n}:')\n",
    "unit_test(case)\n",
    "n += 1"
   ]
  },
  {
   "cell_type": "markdown",
   "id": "918bb01e",
   "metadata": {},
   "source": [
    "# Population Dataframes"
   ]
  },
  {
   "cell_type": "code",
   "execution_count": 322,
   "id": "bf65ceea",
   "metadata": {},
   "outputs": [],
   "source": [
    "all_countries = wbdata.get_country()\n",
    "\n",
    "country_list = []\n",
    "for country in all_countries:\n",
    "    c = country['id']\n",
    "    country_list += [c]"
   ]
  },
  {
   "cell_type": "code",
   "execution_count": 358,
   "id": "bea38acc",
   "metadata": {},
   "outputs": [
    {
     "data": {
      "text/plain": [
       "[('00', '04'),\n",
       " ('0', '14'),\n",
       " ('05', '09'),\n",
       " ('10', '14'),\n",
       " ('15', '19'),\n",
       " ('15', '64'),\n",
       " ('20', '24'),\n",
       " ('25', '29'),\n",
       " ('30', '34'),\n",
       " ('35', '39'),\n",
       " ('40', '44'),\n",
       " ('45', '49'),\n",
       " ('50', '54'),\n",
       " ('55', '59'),\n",
       " ('60', '64'),\n",
       " ('65', '69'),\n",
       " ('65', 'above'),\n",
       " ('70', '74'),\n",
       " ('75', '79'),\n",
       " ('80', 'above')]"
      ]
     },
     "execution_count": 358,
     "metadata": {},
     "output_type": "execute_result"
    }
   ],
   "source": [
    "valid_queries = get_indicators_dict(40).keys()\n",
    "valid_queries = [q for q in valid_queries if (q.find('Population ages') != -1) \n",
    "                 & (q.find(', female') != -1) & (q.find('(% of') == -1)]\n",
    "valid_ranges = []\n",
    "for q in valid_queries:\n",
    "    m = re.search(r'(\\d+-\\d+|\\d+ and above)', q)\n",
    "    age_range = m.group(1)\n",
    "    valid_ranges += [age_range]\n",
    "\n",
    "valid_ranges = [(re.split(r\"[- | '']\", r)[0], \n",
    "                 re.split(r\"[- | '']\", r)[-1]) for r in valid_ranges]\n",
    "\n",
    "valid_ranges"
   ]
  },
  {
   "cell_type": "code",
   "execution_count": 359,
   "id": "444a7a96",
   "metadata": {},
   "outputs": [],
   "source": [
    "# Need to iterate for each country\n",
    "## Need to iterate for each year\n",
    "### Need to iterate for male & female\n",
    "#### Need to iterate for each age_range\n"
   ]
  },
  {
   "cell_type": "code",
   "execution_count": 356,
   "id": "f5b54b67",
   "metadata": {},
   "outputs": [
    {
     "data": {
      "text/plain": [
       "('80', 'above')"
      ]
     },
     "execution_count": 356,
     "metadata": {},
     "output_type": "execute_result"
    }
   ],
   "source": []
  },
  {
   "cell_type": "markdown",
   "id": "f1b29bac",
   "metadata": {},
   "source": [
    "# Population Pyramids"
   ]
  },
  {
   "cell_type": "code",
   "execution_count": null,
   "id": "a9a29aaa",
   "metadata": {},
   "outputs": [],
   "source": []
  }
 ],
 "metadata": {
  "kernelspec": {
   "display_name": "Python 3 (ipykernel)",
   "language": "python",
   "name": "python3"
  },
  "language_info": {
   "codemirror_mode": {
    "name": "ipython",
    "version": 3
   },
   "file_extension": ".py",
   "mimetype": "text/x-python",
   "name": "python",
   "nbconvert_exporter": "python",
   "pygments_lexer": "ipython3",
   "version": "3.11.5"
  }
 },
 "nbformat": 4,
 "nbformat_minor": 5
}
