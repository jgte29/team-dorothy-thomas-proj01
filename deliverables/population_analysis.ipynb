{
 "cells": [
  {
   "cell_type": "markdown",
   "id": "f1a06e52",
   "metadata": {},
   "source": [
    "# Our Country: Colombia"
   ]
  },
  {
   "cell_type": "code",
   "execution_count": 29,
   "id": "f6def48e",
   "metadata": {},
   "outputs": [],
   "source": [
    "### Uncomment this to download\n",
    "# !pip install wbdata\n",
    "import pandas\n",
    "import wbdata\n",
    "import re"
   ]
  },
  {
   "cell_type": "markdown",
   "id": "e0184923",
   "metadata": {},
   "source": [
    "# Population Statistics"
   ]
  },
  {
   "cell_type": "code",
   "execution_count": 171,
   "id": "c97eab2c",
   "metadata": {},
   "outputs": [],
   "source": [
    "def get_indicators_dict(src):\n",
    "    indicators = wbdata.get_indicator(source = src)\n",
    "    \n",
    "    indicator_dict = {}\n",
    "    for indicator in indicators:\n",
    "        ID = indicator['id']\n",
    "        name = indicator['name']\n",
    "        indicator_dict[name] = ID\n",
    "        \n",
    "    return indicator_dict\n",
    "    \n",
    "\n",
    "def population(year, sex, age_range, place):\n",
    "    src = 40\n",
    "    \n",
    "    indicator_dict = get_indicators_dict(src)\n",
    "    \n",
    "    label = f'Population ages {age_range[0]}-{age_range[1]}, {sex.lower()}'\n",
    "    \n",
    "    try:\n",
    "        variable_labels = {(indicator_dict[label]): label}\n",
    "        \n",
    "        try:\n",
    "            df = wbdata.get_dataframe(variable_labels, country=place)\n",
    "            df.index = df.index.astype(int)\n",
    "            return df.loc[year, label]\n",
    "        except:\n",
    "            print('Invalid Country: Use ')\n",
    "            return 'Invalid Country'\n",
    "        \n",
    "    except:\n",
    "        valid_queries = get_indicators_dict(40).keys()\n",
    "        valid_queries = [q for q in valid_queries if q.find('Population ages') != -1 & q.find('(% of') == -1]\n",
    "        error_message = f'''\n",
    "Invalid Query:\n",
    "Valid Queries:\n",
    "{valid_queries}\n",
    "        '''\n",
    "        print(error_message)\n",
    "        return 'Invalid Query'\n",
    "\n",
    "def find_country(country):\n",
    "    print(wbdata.search_countries())"
   ]
  },
  {
   "cell_type": "code",
   "execution_count": 172,
   "id": "2ce4bc1e",
   "metadata": {},
   "outputs": [],
   "source": [
    "dummy = get_indicators_dict(40).keys()\n",
    "dummy = [key for key in dummy if key.find('Population ages') != -1 & key.find('(% of') == -1]"
   ]
  },
  {
   "cell_type": "code",
   "execution_count": null,
   "id": "2984ab05",
   "metadata": {},
   "outputs": [],
   "source": []
  },
  {
   "cell_type": "code",
   "execution_count": null,
   "id": "cf1029bb",
   "metadata": {},
   "outputs": [],
   "source": []
  },
  {
   "cell_type": "markdown",
   "id": "fdf4065c",
   "metadata": {},
   "source": [
    "# Unit Tests"
   ]
  },
  {
   "cell_type": "markdown",
   "id": "918bb01e",
   "metadata": {},
   "source": [
    "# Population Dataframes"
   ]
  },
  {
   "cell_type": "markdown",
   "id": "f1b29bac",
   "metadata": {},
   "source": [
    "# Population Pyramids"
   ]
  },
  {
   "cell_type": "code",
   "execution_count": null,
   "id": "a9a29aaa",
   "metadata": {},
   "outputs": [],
   "source": []
  }
 ],
 "metadata": {
  "kernelspec": {
   "display_name": "Python 3 (ipykernel)",
   "language": "python",
   "name": "python3"
  },
  "language_info": {
   "codemirror_mode": {
    "name": "ipython",
    "version": 3
   },
   "file_extension": ".py",
   "mimetype": "text/x-python",
   "name": "python",
   "nbconvert_exporter": "python",
   "pygments_lexer": "ipython3",
   "version": "3.11.5"
  }
 },
 "nbformat": 4,
 "nbformat_minor": 5
}
