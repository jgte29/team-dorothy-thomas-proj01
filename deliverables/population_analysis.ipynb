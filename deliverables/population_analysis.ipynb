{
 "cells": [
  {
   "cell_type": "markdown",
   "id": "f1a06e52",
   "metadata": {},
   "source": [
    "# Our Country: Colombia"
   ]
  },
  {
   "cell_type": "code",
   "execution_count": 1,
   "id": "f6def48e",
   "metadata": {},
   "outputs": [],
   "source": [
    "### Uncomment this to download\n",
    "# !pip install wbdata\n",
    "import numpy as np\n",
    "import pandas as pd\n",
    "import wbdata\n",
    "import re"
   ]
  },
  {
   "cell_type": "markdown",
   "id": "e0184923",
   "metadata": {},
   "source": [
    "# Population Statistics"
   ]
  },
  {
   "cell_type": "code",
   "execution_count": 2,
   "id": "c97eab2c",
   "metadata": {},
   "outputs": [],
   "source": [
    "def get_indicators_dict(src):\n",
    "    indicators = wbdata.get_indicator(source = src)\n",
    "    \n",
    "    indicator_dict = {}\n",
    "    for indicator in indicators:\n",
    "        ID = indicator['id']\n",
    "        name = indicator['name']\n",
    "        indicator_dict[name] = ID\n",
    "        \n",
    "    return indicator_dict\n",
    "    \n",
    "\n",
    "def population(year, sex, age_range, place, whole_df = False, mute=True):\n",
    "    src = 40\n",
    "    \n",
    "    indicator_dict = get_indicators_dict(src)\n",
    "    \n",
    "    try:\n",
    "        try: # For queries like 'Population ages 10-14, female'\n",
    "            label = f'Population ages {age_range[0]}-{age_range[1]}, {sex.lower()}'\n",
    "            variable_labels = {(indicator_dict[label]): label}\n",
    "            \n",
    "        except: # For queries like 'Population ages 65 and above, female'\n",
    "            label = f'Population ages {age_range[0]} and {age_range[1]}, {sex.lower()}'\n",
    "            variable_labels = {(indicator_dict[label]): label}            \n",
    "\n",
    "        try:\n",
    "            df = wbdata.get_dataframe(variable_labels, country=place)\n",
    "            df.index = df.index.astype(int)\n",
    "            if not whole_df:\n",
    "                return df.loc[year, label]\n",
    "            else: ### Returns the whole df if no year specified\n",
    "                return df\n",
    "        except:\n",
    "            if not mute:\n",
    "                print('Invalid Country: Use find_country() to find valid countries')\n",
    "            return 'Invalid Country'\n",
    "        \n",
    "    except:\n",
    "        valid_queries = get_indicators_dict(40).keys()\n",
    "        valid_queries = [q for q in valid_queries if q.find('Population ages') != -1 & q.find('(% of') == -1]\n",
    "        error_message = f'''\n",
    "Invalid Query:\n",
    "Valid Queries:\n",
    "{valid_queries}\n",
    "        '''\n",
    "        \n",
    "        if not mute:\n",
    "            print(error_message)\n",
    "        return 'Invalid Query'\n",
    "\n",
    "def find_country(country):\n",
    "    print(wbdata.search_countries())"
   ]
  },
  {
   "cell_type": "code",
   "execution_count": 3,
   "id": "85eb8651",
   "metadata": {},
   "outputs": [
    {
     "data": {
      "text/plain": [
       "1873332.0"
      ]
     },
     "execution_count": 3,
     "metadata": {},
     "output_type": "execute_result"
    }
   ],
   "source": [
    "eg = population(2020, 'male', ('00','04'), 'COL')\n",
    "eg"
   ]
  },
  {
   "cell_type": "markdown",
   "id": "fdf4065c",
   "metadata": {},
   "source": [
    "# Unit Tests"
   ]
  },
  {
   "cell_type": "code",
   "execution_count": 4,
   "id": "dd7726c2",
   "metadata": {
    "scrolled": true
   },
   "outputs": [],
   "source": [
    "def unit_test(case):\n",
    "    if case:\n",
    "        print('Test Case Passed')\n",
    "        return case\n",
    "    else:\n",
    "        print('Test Case Failed')\n",
    "        return case"
   ]
  },
  {
   "cell_type": "markdown",
   "id": "a69f05bc",
   "metadata": {},
   "source": [
    "### Test the Value Returns Correct Answers"
   ]
  },
  {
   "cell_type": "code",
   "execution_count": 5,
   "id": "194efc79",
   "metadata": {},
   "outputs": [
    {
     "name": "stdout",
     "output_type": "stream",
     "text": [
      "Test 1:\n",
      "Test Case Passed\n",
      "\n",
      "Test 2:\n",
      "Test Case Passed\n",
      "\n",
      "Test 3:\n",
      "Test Case Passed\n",
      "\n",
      "Test 4:\n",
      "Test Case Passed\n",
      "\n",
      "Test 5:\n",
      "Test Case Passed\n",
      "\n",
      "Test 6:\n",
      "Test Case Passed\n",
      "\n",
      "Test 7:\n",
      "Test Case Failed\n"
     ]
    }
   ],
   "source": [
    "n = 1\n",
    "\n",
    "### Test the Unit Test Works\n",
    "case = population(2020, 'total', ('15','64'), 'COL') < 0\n",
    "print(f'Test {n}:')\n",
    "unit_test(~(case))\n",
    "n += 1\n",
    "\n",
    "### Basic Functionality\n",
    "case = population(2020, 'total', ('15','64'), 'COL') > 1e6\n",
    "print(f'\\nTest {n}:')\n",
    "unit_test(case)\n",
    "n += 1\n",
    "\n",
    "### Test the year hyperparameter works\n",
    "case = population(2020, 'total', ('15','64'), 'COL') != population(2021, 'total', ('15','64'), 'COL')\n",
    "print(f'\\nTest {n}:')\n",
    "unit_test(case)\n",
    "n += 1\n",
    "\n",
    "### Test the sex hyperparameter works\n",
    "case = population(2020, 'total', ('15','64'), 'COL') > population(2020, 'male', ('15','64'), 'COL')\n",
    "print(f'\\nTest {n}:')\n",
    "unit_test(case)\n",
    "n += 1\n",
    "\n",
    "### Test the place hyperparameter works\n",
    "case = population(2020, 'total', ('15','64'), 'COL') != population(2020, 'total', ('15','64'), 'USA')\n",
    "print(f'\\nTest {n}:')\n",
    "unit_test(case)\n",
    "n += 1\n",
    "\n",
    "### Test the age_range hyperparameter works w/ '-'\n",
    "case = population(2020, 'male', ('15','19'), 'COL') != population(2020, 'male', ('0','14'), 'COL')\n",
    "print(f'\\nTest {n}:')\n",
    "unit_test(case)\n",
    "n += 1\n",
    "\n",
    "### Test the age_range hyperparameter works w/ '-'\n",
    "case = type(population(2020, 'male', ('80','above'), 'COL')) == int\n",
    "print(f'\\nTest {n}:')\n",
    "unit_test(case)\n",
    "n += 1"
   ]
  },
  {
   "cell_type": "markdown",
   "id": "5580e864",
   "metadata": {},
   "source": [
    "### Test the Error Messages Work"
   ]
  },
  {
   "cell_type": "code",
   "execution_count": 6,
   "id": "52778e6b",
   "metadata": {
    "scrolled": true
   },
   "outputs": [
    {
     "name": "stdout",
     "output_type": "stream",
     "text": [
      "Test 1:\n",
      "Test Case Passed\n",
      "\n",
      "Test 2:\n",
      "Test Case Passed\n"
     ]
    }
   ],
   "source": [
    "n = 1\n",
    "\n",
    "### Test the Invalid Country Message Works\n",
    "case = population(2020, 'total', ('15','64'), 'SPAM', mute=True) == 'Invalid Country'\n",
    "print(f'Test {n}:')\n",
    "unit_test(~(case))\n",
    "n += 1\n",
    "\n",
    "### Test the Invalid Query Message Works\n",
    "case = population(2020, 'total', ('15','SPAM'), 'COL', mute=True) == 'Invalid Query'\n",
    "print(f'\\nTest {n}:')\n",
    "unit_test(case)\n",
    "n += 1"
   ]
  },
  {
   "cell_type": "markdown",
   "id": "918bb01e",
   "metadata": {},
   "source": [
    "# Population Dataframes"
   ]
  },
  {
   "cell_type": "code",
   "execution_count": 9,
   "id": "c2270c78",
   "metadata": {},
   "outputs": [],
   "source": [
    "all_countries = wbdata.get_country()\n",
    "\n",
    "country_list = []\n",
    "for country in all_countries:\n",
    "    c = country['id']\n",
    "    country_list += [c]"
   ]
  },
  {
   "cell_type": "code",
   "execution_count": 10,
   "id": "8cc73e1e",
   "metadata": {},
   "outputs": [
    {
     "data": {
      "text/plain": [
       "[('00', '04'),\n",
       " ('0', '14'),\n",
       " ('05', '09'),\n",
       " ('10', '14'),\n",
       " ('15', '19'),\n",
       " ('15', '64'),\n",
       " ('20', '24'),\n",
       " ('25', '29'),\n",
       " ('30', '34'),\n",
       " ('35', '39'),\n",
       " ('40', '44'),\n",
       " ('45', '49'),\n",
       " ('50', '54'),\n",
       " ('55', '59'),\n",
       " ('60', '64'),\n",
       " ('65', '69'),\n",
       " ('65', 'above'),\n",
       " ('70', '74'),\n",
       " ('75', '79'),\n",
       " ('80', 'above')]"
      ]
     },
     "execution_count": 10,
     "metadata": {},
     "output_type": "execute_result"
    }
   ],
   "source": [
    "valid_queries = get_indicators_dict(40).keys()\n",
    "valid_queries = [q for q in valid_queries if (q.find('Population ages') != -1) \n",
    "                 & (q.find(', female') != -1) & (q.find('(% of') == -1)]\n",
    "valid_ranges = []\n",
    "for q in valid_queries:\n",
    "    m = re.search(r'(\\d+-\\d+|\\d+ and above)', q)\n",
    "    age_range = m.group(1)\n",
    "    valid_ranges += [age_range]\n",
    "\n",
    "valid_ranges = [(re.split(r\"[- | '']\", r)[0], \n",
    "                 re.split(r\"[- | '']\", r)[-1]) for r in valid_ranges]\n",
    "\n",
    "valid_ranges"
   ]
  },
  {
   "cell_type": "code",
   "execution_count": null,
   "id": "da36bdf3",
   "metadata": {
    "scrolled": true
   },
   "outputs": [
    {
     "name": "stdout",
     "output_type": "stream",
     "text": [
      "ABW\n",
      "AFE\n",
      "AFG\n",
      "AFR\n",
      "AFW\n",
      "AGO\n",
      "ALB\n",
      "AND\n",
      "ARB\n",
      "ARE\n",
      "ARG\n",
      "ARM\n",
      "ASM\n",
      "ATG\n",
      "AUS\n",
      "AUT\n",
      "AZE\n",
      "BDI\n",
      "BEA\n",
      "BEC\n",
      "BEL\n",
      "BEN\n",
      "BFA\n",
      "BGD\n",
      "BGR\n"
     ]
    }
   ],
   "source": [
    "sexes = ['male', 'female']\n",
    "\n",
    "master_dict = {}\n",
    "\n",
    "# Need to iterate for each country\n",
    "for c in country_list:\n",
    "    data_dict = {}\n",
    "    print(c)\n",
    "## Need to iterate for male & female\n",
    "    for s in sexes:\n",
    "### Need to iterate for each age_range\n",
    "        for r in valid_ranges:\n",
    "            if r[1] == 'above':\n",
    "                col_name = f'Population ages {r[0]} and {r[1]}, {s}'\n",
    "            else:\n",
    "                col_name = f'Population ages {r[0]}-{r[1]}, {s}'\n",
    "            \n",
    "            pop_df = population(2020, s, r, c, whole_df = True)\n",
    "        \n",
    "            try:\n",
    "                data_dict['Year'] = pop_df.index\n",
    "                data_dict[col_name] = pop_df.iloc[:, 0]\n",
    "            except: # Skips if query fails\n",
    "                pass\n",
    "    \n",
    "    try:\n",
    "        cdf = pd.DataFrame(data_dict)\n",
    "        master_dict[c] = cdf\n",
    "    except: # Skips if df does not exist (i.e. Only Invalid Queries/Countries)\n",
    "        pass\n",
    "    \n",
    "master_df = pd.DataFrame(master_dict)\n",
    "master_df"
   ]
  },
  {
   "cell_type": "code",
   "execution_count": null,
   "id": "d00d6933",
   "metadata": {},
   "outputs": [],
   "source": [
    "pop_df = population(2020, 'male', '00-04', 'AFR', whole_df = True)\n",
    "pop_df"
   ]
  },
  {
   "cell_type": "code",
   "execution_count": null,
   "id": "79ed0b87",
   "metadata": {},
   "outputs": [],
   "source": [
    "all_countries"
   ]
  },
  {
   "cell_type": "code",
   "execution_count": null,
   "id": "0dc13e87",
   "metadata": {},
   "outputs": [],
   "source": []
  },
  {
   "cell_type": "markdown",
   "id": "f1b29bac",
   "metadata": {},
   "source": [
    "# Population Pyramids"
   ]
  },
  {
   "cell_type": "code",
   "execution_count": null,
   "id": "a9a29aaa",
   "metadata": {},
   "outputs": [],
   "source": []
  }
 ],
 "metadata": {
  "kernelspec": {
   "display_name": "Python 3 (ipykernel)",
   "language": "python",
   "name": "python3"
  },
  "language_info": {
   "codemirror_mode": {
    "name": "ipython",
    "version": 3
   },
   "file_extension": ".py",
   "mimetype": "text/x-python",
   "name": "python",
   "nbconvert_exporter": "python",
   "pygments_lexer": "ipython3",
   "version": "3.11.5"
  }
 },
 "nbformat": 4,
 "nbformat_minor": 5
}
